{
 "cells": [
  {
   "cell_type": "code",
   "execution_count": null,
   "metadata": {},
   "outputs": [],
   "source": [
    "import numpy as np\n",
    "np.__version__"
   ]
  },
  {
   "cell_type": "code",
   "execution_count": null,
   "metadata": {},
   "outputs": [],
   "source": [
    "L=np.random.rand(1000000)\n",
    "%timeit sum(L)\n",
    "%timeit np.sum(L)"
   ]
  },
  {
   "cell_type": "code",
   "execution_count": null,
   "metadata": {},
   "outputs": [],
   "source": [
    "min(L), max(L)"
   ]
  },
  {
   "cell_type": "code",
   "execution_count": null,
   "metadata": {},
   "outputs": [],
   "source": [
    "np.min(L), np.max(L)"
   ]
  },
  {
   "cell_type": "code",
   "execution_count": null,
   "metadata": {},
   "outputs": [],
   "source": [
    "%timeit min(L)\n",
    "%timeit np.min(L)"
   ]
  },
  {
   "cell_type": "code",
   "execution_count": null,
   "metadata": {},
   "outputs": [],
   "source": []
  },
  {
   "cell_type": "code",
   "execution_count": null,
   "metadata": {},
   "outputs": [],
   "source": []
  },
  {
   "cell_type": "code",
   "execution_count": 19,
   "metadata": {},
   "outputs": [
    {
     "name": "stdout",
     "output_type": "stream",
     "text": [
      "99990000\n",
      "99990000\n",
      "0.006979227066040039 0.0\n"
     ]
    },
    {
     "ename": "ZeroDivisionError",
     "evalue": "float division by zero",
     "output_type": "error",
     "traceback": [
      "\u001b[1;31m---------------------------------------------------------------------------\u001b[0m",
      "\u001b[1;31mZeroDivisionError\u001b[0m                         Traceback (most recent call last)",
      "\u001b[1;32m<ipython-input-19-8609157c0f3b>\u001b[0m in \u001b[0;36m<module>\u001b[1;34m()\u001b[0m\n\u001b[0;32m     24\u001b[0m \u001b[0mt2\u001b[0m \u001b[1;33m=\u001b[0m \u001b[0mnumpy_version\u001b[0m\u001b[1;33m(\u001b[0m\u001b[1;33m)\u001b[0m\u001b[1;33m\u001b[0m\u001b[0m\n\u001b[0;32m     25\u001b[0m \u001b[0mprint\u001b[0m\u001b[1;33m(\u001b[0m\u001b[0mt1\u001b[0m\u001b[1;33m,\u001b[0m \u001b[0mt2\u001b[0m\u001b[1;33m)\u001b[0m\u001b[1;33m\u001b[0m\u001b[0m\n\u001b[1;32m---> 26\u001b[1;33m \u001b[0mprint\u001b[0m\u001b[1;33m(\u001b[0m\u001b[1;34m'numpy is in this example '\u001b[0m\u001b[1;33m+\u001b[0m \u001b[0mstr\u001b[0m\u001b[1;33m(\u001b[0m\u001b[0mt1\u001b[0m\u001b[1;33m/\u001b[0m\u001b[0mt2\u001b[0m\u001b[1;33m)\u001b[0m\u001b[1;33m+\u001b[0m \u001b[1;34m' faster'\u001b[0m\u001b[1;33m)\u001b[0m\u001b[1;33m\u001b[0m\u001b[0m\n\u001b[0m",
      "\u001b[1;31mZeroDivisionError\u001b[0m: float division by zero"
     ]
    }
   ],
   "source": [
    "import numpy as np\n",
    "import time\n",
    "sizeVec = 10000\n",
    "\n",
    "def pure_python_version():\n",
    "    st=time.time()\n",
    "    x=range(sizeVec)\n",
    "    y=range(sizeVec)\n",
    "    z= []\n",
    "    for i in range(len(x)):\n",
    "        z.append(x[i]+y[i])\n",
    "    print(sum(z))\n",
    "    end=time.time()\n",
    "    return end- st\n",
    "def numpy_version():\n",
    "    st=time.time()\n",
    "    x=np.arange(sizeVec)\n",
    "    y=np.arange(sizeVec)\n",
    "    z=x+y\n",
    "    print(np.sum(z))\n",
    "    end=time.time()\n",
    "    return end- st\n",
    "t1 = pure_python_version()\n",
    "t2 = numpy_version()\n",
    "print(t1, t2)\n",
    "print('numpy is in this example '+ str(t1/t2)+ ' faster')"
   ]
  },
  {
   "cell_type": "markdown",
   "metadata": {},
   "source": [
    "# 큰 사이즈의 배열은 실수들의 배열을 만들어 파이썬 배열과 비교해야 결과가 같다."
   ]
  },
  {
   "cell_type": "code",
   "execution_count": 13,
   "metadata": {},
   "outputs": [
    {
     "name": "stdout",
     "output_type": "stream",
     "text": [
      "99999990000000\n",
      "266447232\n",
      "5.166068077087402 0.05097222328186035\n",
      "numpy is in this example 101.35065226644464 faster\n"
     ]
    }
   ],
   "source": [
    "import numpy as np\n",
    "import time\n",
    "sizeVec = 10000000\n",
    "\n",
    "def pure_python_version():\n",
    "    st=time.time()\n",
    "    x=range(sizeVec)\n",
    "    y=range(sizeVec)\n",
    "    z= []\n",
    "    for i in range(len(x)):\n",
    "        z.append(x[i]+y[i])\n",
    "    print(sum(z))\n",
    "    end=time.time()\n",
    "    return end- st\n",
    "def numpy_version():\n",
    "    st=time.time()\n",
    "    x=np.arange(sizeVec)\n",
    "    y=np.arange(sizeVec)\n",
    "    z=x+y\n",
    "    print(np.sum(z))\n",
    "    end=time.time()\n",
    "    return end- st\n",
    "t1 = pure_python_version()\n",
    "t2 = numpy_version()\n",
    "print(t1, t2)\n",
    "print('numpy is in this example '+ str(t1/t2)+ ' faster')"
   ]
  },
  {
   "cell_type": "code",
   "execution_count": 6,
   "metadata": {},
   "outputs": [
    {
     "name": "stdout",
     "output_type": "stream",
     "text": [
      "99999990000000\n",
      "99999990000000.0\n",
      "5.261001825332642 0.08838605880737305\n",
      "numpy is in this example 59.52298242869243 faster\n"
     ]
    }
   ],
   "source": [
    "import numpy as np\n",
    "import time\n",
    "sizeVec = 10000000\n",
    "\n",
    "def pure_python_version():\n",
    "    st=time.time()\n",
    "    x=range(sizeVec)\n",
    "    y=range(sizeVec)\n",
    "    z= []\n",
    "    for i in range(len(x)):\n",
    "        z.append(x[i]+y[i])\n",
    "    print(sum(z))\n",
    "    end=time.time()\n",
    "    return end- st\n",
    "def numpy_version():\n",
    "    st=time.time()\n",
    "    x=np.arange(sizeVec, dtype=np.float64)\n",
    "    y=np.arange(sizeVec, dtype=np.float64)\n",
    "    z=x+y\n",
    "    print(np.sum(z))\n",
    "    end=time.time()\n",
    "    return end- st\n",
    "t1 = pure_python_version()\n",
    "t2 = numpy_version()\n",
    "print(t1, t2)\n",
    "print('numpy is in this example '+ str(t1/t2)+ ' faster')"
   ]
  },
  {
   "cell_type": "code",
   "execution_count": 7,
   "metadata": {},
   "outputs": [
    {
     "name": "stdout",
     "output_type": "stream",
     "text": [
      "python list exe. time:  4.881232976913452\n",
      "numpy ndarray exe. time:  0.0499720573425293\n",
      "numpy is in this example 97.67924789358678 faster\n"
     ]
    }
   ],
   "source": [
    "import numpy as np\n",
    "import time\n",
    "sizeVec = 10000000\n",
    "\n",
    "def pure_python_version():\n",
    "    t1=time.time()\n",
    "    x=range(sizeVec)\n",
    "    y=range(sizeVec)\n",
    "    z= []\n",
    "    for i in range(len(x)):\n",
    "        z.append(x[i]+y[i])\n",
    "    return time.time()- t1\n",
    "def numpy_version():\n",
    "    t2=time.time()\n",
    "    x=np.arange(sizeVec)\n",
    "    y=np.arange(sizeVec)\n",
    "    z=x+y\n",
    "    return time.time()-t2\n",
    "t1 = pure_python_version()\n",
    "t2 = numpy_version()\n",
    "print('python list exe. time: ', t1)\n",
    "print('numpy ndarray exe. time: ', t2)\n",
    "print('numpy is in this example '+ str(t1/t2)+ ' faster')"
   ]
  },
  {
   "cell_type": "code",
   "execution_count": 1,
   "metadata": {},
   "outputs": [],
   "source": [
    "import numpy as np\n",
    "import time"
   ]
  },
  {
   "cell_type": "code",
   "execution_count": 4,
   "metadata": {},
   "outputs": [
    {
     "name": "stdout",
     "output_type": "stream",
     "text": [
      "['T', '__abs__', '__add__', '__and__', '__array__', '__array_finalize__', '__array_function__', '__array_interface__', '__array_prepare__', '__array_priority__', '__array_struct__', '__array_ufunc__', '__array_wrap__', '__bool__', '__class__', '__complex__', '__contains__', '__copy__', '__deepcopy__', '__delattr__', '__delitem__', '__dir__', '__divmod__', '__doc__', '__eq__', '__float__', '__floordiv__', '__format__', '__ge__', '__getattribute__', '__getitem__', '__gt__', '__hash__', '__iadd__', '__iand__', '__ifloordiv__', '__ilshift__', '__imatmul__', '__imod__', '__imul__', '__index__', '__init__', '__init_subclass__', '__int__', '__invert__', '__ior__', '__ipow__', '__irshift__', '__isub__', '__iter__', '__itruediv__', '__ixor__', '__le__', '__len__', '__lshift__', '__lt__', '__matmul__', '__mod__', '__mul__', '__ne__', '__neg__', '__new__', '__or__', '__pos__', '__pow__', '__radd__', '__rand__', '__rdivmod__', '__reduce__', '__reduce_ex__', '__repr__', '__rfloordiv__', '__rlshift__', '__rmatmul__', '__rmod__', '__rmul__', '__ror__', '__rpow__', '__rrshift__', '__rshift__', '__rsub__', '__rtruediv__', '__rxor__', '__setattr__', '__setitem__', '__setstate__', '__sizeof__', '__str__', '__sub__', '__subclasshook__', '__truediv__', '__xor__', 'all', 'any', 'argmax', 'argmin', 'argpartition', 'argsort', 'astype', 'base', 'byteswap', 'choose', 'clip', 'compress', 'conj', 'conjugate', 'copy', 'ctypes', 'cumprod', 'cumsum', 'data', 'diagonal', 'dot', 'dtype', 'dump', 'dumps', 'fill', 'flags', 'flat', 'flatten', 'getfield', 'imag', 'item', 'itemset', 'itemsize', 'max', 'mean', 'min', 'nbytes', 'ndim', 'newbyteorder', 'nonzero', 'partition', 'prod', 'ptp', 'put', 'ravel', 'real', 'repeat', 'reshape', 'resize', 'round', 'searchsorted', 'setfield', 'setflags', 'shape', 'size', 'sort', 'squeeze', 'std', 'strides', 'sum', 'swapaxes', 'take', 'tobytes', 'tofile', 'tolist', 'tostring', 'trace', 'transpose', 'var', 'view']\n"
     ]
    }
   ],
   "source": [
    "print(dir(np.ndarray))"
   ]
  },
  {
   "cell_type": "code",
   "execution_count": null,
   "metadata": {},
   "outputs": [],
   "source": []
  }
 ],
 "metadata": {
  "kernelspec": {
   "display_name": "Python 3",
   "language": "python",
   "name": "python3"
  },
  "language_info": {
   "codemirror_mode": {
    "name": "ipython",
    "version": 3
   },
   "file_extension": ".py",
   "mimetype": "text/x-python",
   "name": "python",
   "nbconvert_exporter": "python",
   "pygments_lexer": "ipython3",
   "version": "3.7.0"
  }
 },
 "nbformat": 4,
 "nbformat_minor": 2
}
