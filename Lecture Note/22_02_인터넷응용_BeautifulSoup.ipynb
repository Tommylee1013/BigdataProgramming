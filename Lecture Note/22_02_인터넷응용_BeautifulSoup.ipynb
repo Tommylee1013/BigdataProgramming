{
 "cells": [
  {
   "cell_type": "markdown",
   "metadata": {},
   "source": [
    "# 웹 데이터 추출 (Web Scraping)"
   ]
  },
  {
   "cell_type": "code",
   "execution_count": 1,
   "metadata": {},
   "outputs": [],
   "source": [
    "from urllib.request import *\n",
    "from bs4 import *"
   ]
  },
  {
   "cell_type": "code",
   "execution_count": 3,
   "metadata": {},
   "outputs": [
    {
     "name": "stdout",
     "output_type": "stream",
     "text": [
      "<class 'http.client.HTTPResponse'>\n",
      "<class 'bs4.BeautifulSoup'>\n",
      "<!DOCTYPE html PUBLIC \"-//W3C//DTD HTML 4.01 Frameset//EN\" \"http://www.w3.org/TR/html4/frameset.dtd\">\n",
      "<html>\n",
      " <head>\n",
      "  <title>\n",
      "  </title>\n",
      "  <meta content=\"IE=edge\" http-equiv=\"X-UA-Compatible\"/>\n",
      "  <link href=\"favicon.ico\" rel=\"icon\" type=\"image/x-icon\"/>\n",
      "  <link href=\"favicon.ico\" rel=\"shortcut icon\"/>\n",
      "  <script type=\"text/javascript\">\n",
      "   function setTitleBar(title){\n",
      "\tdocument.title=title;\n",
      "}\n",
      "  </script>\n",
      " </head>\n",
      " <frameset border=\"0\" cols=\"*\" rows=\"*\">\n",
      "  <frame scrolling=\"auto\" src=\"/common/welcome.do\"/>\n",
      " </frameset>\n",
      "</html>\n",
      "\n"
     ]
    }
   ],
   "source": [
    "wp = urlopen('http://mail.sogang.ac.kr')\n",
    "print(type(wp))\n",
    "soup = BeautifulSoup(wp, 'html.parser') #parsing\n",
    "print(type(soup))\n",
    "print(soup.prettify()) #"
   ]
  },
  {
   "cell_type": "code",
   "execution_count": 4,
   "metadata": {},
   "outputs": [],
   "source": [
    "html = \"\"\"\n",
    "<!doctype html>\n",
    "<head><title>An Example</title></head>\n",
    "<body>\n",
    "   <h3>The second heading(small font).</h3>\n",
    "   <p>A paragraph(number list):\n",
    "     <b style=\"color:red;\">123</b>, <b style=\"color:red;\">356</b>,\n",
    "     <b>641</b>, <b>387</b> </p>\n",
    "   <p>Hyperlink: <a href=\"http://www.google.com\">google</a></p>\n",
    "   <p>Link with italic: <a href=\"http://www.naver.com\"><i>naver</i></a></p>\n",
    "</body>\n",
    "\"\"\"\n",
    "\n",
    "soup = BeautifulSoup(html, 'html.parser') # parsing"
   ]
  },
  {
   "cell_type": "code",
   "execution_count": 5,
   "metadata": {},
   "outputs": [
    {
     "name": "stdout",
     "output_type": "stream",
     "text": [
      "## 태그가 b인 object 리스트 추출 ##\n",
      "[<b style=\"color:red;\">123</b>, <b style=\"color:red;\">356</b>, <b>641</b>, <b>387</b>]\n"
     ]
    }
   ],
   "source": [
    "### 태그가 b인 object 리스트 추출\n",
    "print(\"## 태그가 b인 object 리스트 추출 ##\")\n",
    "bList = soup.find_all('b')  \n",
    "print(bList)"
   ]
  },
  {
   "cell_type": "code",
   "execution_count": 7,
   "metadata": {},
   "outputs": [
    {
     "name": "stdout",
     "output_type": "stream",
     "text": [
      "# bList에서 정수 값 추출\n",
      "123\n",
      "356\n",
      "641\n",
      "387\n"
     ]
    }
   ],
   "source": [
    "print(\"# bList에서 정수 값 추출\")\n",
    "for b in bList :\n",
    "  print(b.get_text()) # 123 356 641 387 차례로 출력"
   ]
  },
  {
   "cell_type": "code",
   "execution_count": 9,
   "metadata": {},
   "outputs": [
    {
     "name": "stdout",
     "output_type": "stream",
     "text": [
      "## 태그가 b이고 속성이 style='color:red;'인 object 리스트 추출 ##\n",
      "[<b style=\"color:red;\">123</b>, <b style=\"color:red;\">356</b>]\n"
     ]
    }
   ],
   "source": [
    "### 태그가 b이고 속성이 style=\"color:red;\"인 object 추출\n",
    "print(\"## 태그가 b이고 속성이 style='color:red;'인 object 리스트 추출 ##\")\n",
    "bList = soup.find_all('b', {'style':'color:red;'})\n",
    "print(bList)        # 추출한 리스트 출력(아래 참조)"
   ]
  },
  {
   "cell_type": "code",
   "execution_count": 21,
   "metadata": {},
   "outputs": [
    {
     "name": "stdout",
     "output_type": "stream",
     "text": [
      "<b style=\"color:red;\">123</b>\n",
      "123\n"
     ]
    }
   ],
   "source": [
    "b=soup.find('b', {'style':'color:red;'})\n",
    "print(b)\n",
    "print(b.get_text())"
   ]
  },
  {
   "cell_type": "code",
   "execution_count": 22,
   "metadata": {},
   "outputs": [
    {
     "name": "stdout",
     "output_type": "stream",
     "text": [
      "<b>641</b>\n",
      "641\n"
     ]
    }
   ],
   "source": [
    "c=soup.find('b', {'style':''}) # 태그가 b이고 style 속성이 없는 첫 번째 정수\n",
    "print(c)\n",
    "print(c.get_text())"
   ]
  },
  {
   "cell_type": "markdown",
   "metadata": {},
   "source": [
    "# find사용하면 속성 값도 구할 수 있다"
   ]
  },
  {
   "cell_type": "code",
   "execution_count": 5,
   "metadata": {},
   "outputs": [
    {
     "name": "stdout",
     "output_type": "stream",
     "text": [
      "http://www.google.com\n"
     ]
    }
   ],
   "source": [
    "url = soup.find('a')['href'] # 태그가 a인 첫 번째 요소의 속성 href의 값\n",
    "print(url)"
   ]
  },
  {
   "cell_type": "code",
   "execution_count": 11,
   "metadata": {},
   "outputs": [
    {
     "name": "stdout",
     "output_type": "stream",
     "text": [
      "# bList에서 두 번째 원소 값\n",
      "356\n"
     ]
    }
   ],
   "source": [
    "print(\"# bList에서 두 번째 원소 값\")\n",
    "print(bList[1].get_text()) # 356 (bList의 두번째)"
   ]
  },
  {
   "cell_type": "code",
   "execution_count": 7,
   "metadata": {},
   "outputs": [
    {
     "name": "stdout",
     "output_type": "stream",
     "text": [
      "## 두 단계에 걸친 추출 ##\n",
      "# 태그가 p인 object 리스트 추출(pList)\n",
      "[<p>A paragraph(number list):\n",
      "     <b style=\"color:red;\">123</b>, <b style=\"color:red;\">356</b>,\n",
      "     <b>641</b>, <b>387</b> </p>, <p>Hyperlink: <a href=\"http://www.google.com\">google</a></p>, <p>Link with italic: <a href=\"http://www.naver.com\"><i>naver</i></a></p>]\n"
     ]
    }
   ],
   "source": [
    "###두 단계에 걸친 추출\n",
    "print(\"## 두 단계에 걸친 추출 ##\")\n",
    "print(\"# 태그가 p인 object 리스트 추출(pList)\")\n",
    "pList = soup.find_all('p') # 태그가 p인 object 리스트\n",
    "print(pList)"
   ]
  },
  {
   "cell_type": "code",
   "execution_count": 8,
   "metadata": {},
   "outputs": [
    {
     "name": "stdout",
     "output_type": "stream",
     "text": [
      "<p>A paragraph(number list):\n",
      "     <b style=\"color:red;\">123</b>, <b style=\"color:red;\">356</b>,\n",
      "     <b>641</b>, <b>387</b> </p>\n",
      "<p>Hyperlink: <a href=\"http://www.google.com\">google</a></p>\n",
      "<p>Link with italic: <a href=\"http://www.naver.com\"><i>naver</i></a></p>\n"
     ]
    }
   ],
   "source": [
    "for i in pList:\n",
    "    print(i)"
   ]
  },
  {
   "cell_type": "code",
   "execution_count": 9,
   "metadata": {},
   "outputs": [
    {
     "name": "stdout",
     "output_type": "stream",
     "text": [
      "# pList[0]에서 태그가 b인 object 리스트 추출(bList)\n",
      "[<b style=\"color:red;\">123</b>, <b style=\"color:red;\">356</b>, <b>641</b>, <b>387</b>]\n",
      "\n",
      " # bList에서 추출한 정수 값들\n",
      "123\n",
      "356\n",
      "641\n",
      "387\n"
     ]
    }
   ],
   "source": [
    "# pList[0]에 태그가 b인 object들이 있다.\n",
    "print(\"# pList[0]에서 태그가 b인 object 리스트 추출(bList)\")\n",
    "bList = pList[0].find_all('b') # 태그가 b인 리스트\n",
    "print(bList)\n",
    "print(\"\\n # bList에서 추출한 정수 값들\")\n",
    "for b in bList :\n",
    "  print(b.get_text()) # 123 356 641 387 차례로 출력"
   ]
  },
  {
   "cell_type": "code",
   "execution_count": 10,
   "metadata": {},
   "outputs": [
    {
     "name": "stdout",
     "output_type": "stream",
     "text": [
      "[<a href=\"http://www.naver.com\"><i>naver</i></a>]\n"
     ]
    }
   ],
   "source": [
    "bList = pList[2].find_all('a') # 태그가 a인 리스트\n",
    "print(bList)"
   ]
  },
  {
   "cell_type": "code",
   "execution_count": 11,
   "metadata": {},
   "outputs": [
    {
     "name": "stdout",
     "output_type": "stream",
     "text": [
      "http://www.naver.com\n"
     ]
    }
   ],
   "source": [
    "b= pList[2].find('a')['href'] # 태그가 a인 첫 번째 요소의 속성 href의 값\n",
    "print(b)"
   ]
  },
  {
   "cell_type": "code",
   "execution_count": null,
   "metadata": {},
   "outputs": [],
   "source": []
  }
 ],
 "metadata": {
  "kernelspec": {
   "display_name": "Python 3 (ipykernel)",
   "language": "python",
   "name": "python3"
  },
  "language_info": {
   "codemirror_mode": {
    "name": "ipython",
    "version": 3
   },
   "file_extension": ".py",
   "mimetype": "text/x-python",
   "name": "python",
   "nbconvert_exporter": "python",
   "pygments_lexer": "ipython3",
   "version": "3.9.12"
  }
 },
 "nbformat": 4,
 "nbformat_minor": 2
}
