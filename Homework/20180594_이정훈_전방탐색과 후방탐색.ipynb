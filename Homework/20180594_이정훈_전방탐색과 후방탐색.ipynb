{
 "cells": [
  {
   "cell_type": "markdown",
   "metadata": {},
   "source": [
    "## 실습과제 11 : 전방탐색과 후방탐색\n",
    "### 실습 1"
   ]
  },
  {
   "cell_type": "code",
   "execution_count": 1,
   "metadata": {},
   "outputs": [
    {
     "name": "stdout",
     "output_type": "stream",
     "text": [
      "Seo Maria's Homepage\n"
     ]
    }
   ],
   "source": [
    "import re\n",
    "data = '''\n",
    "<HEAD>\n",
    "<TITLE>Seo Maria's Homepage</TITLE>\n",
    "</HEAD>\n",
    "'''\n",
    "\n",
    "p = re.compile('(?<=>).+(?=<)')\n",
    "m = p.search(data)\n",
    "print(m.group())"
   ]
  },
  {
   "cell_type": "markdown",
   "metadata": {},
   "source": [
    "### 실습 2"
   ]
  },
  {
   "cell_type": "code",
   "execution_count": 2,
   "metadata": {},
   "outputs": [
    {
     "name": "stdout",
     "output_type": "stream",
     "text": [
      "['foo.bar', 'sendmail.cf']\n"
     ]
    }
   ],
   "source": [
    "import re\n",
    "data = 'foo.bar, autoexec.bat, sendmail.cf, checksum.exe'\n",
    "\n",
    "m = re.findall(r'\\w+[.]bat|\\w+[.]exe', data)\n",
    "print(list(set(data.split(', ')) - set(m)))"
   ]
  }
 ],
 "metadata": {
  "kernelspec": {
   "display_name": "Python 3",
   "language": "python",
   "name": "python3"
  },
  "language_info": {
   "codemirror_mode": {
    "name": "ipython",
    "version": 3
   },
   "file_extension": ".py",
   "mimetype": "text/x-python",
   "name": "python",
   "nbconvert_exporter": "python",
   "pygments_lexer": "ipython3",
   "version": "3.8.5"
  }
 },
 "nbformat": 4,
 "nbformat_minor": 4
}
