{
 "cells": [
  {
   "cell_type": "code",
   "execution_count": 1,
   "metadata": {},
   "outputs": [],
   "source": [
    "class Date(object):\n",
    "    data = 'date : '\n",
    "    month_days = {1 : 31, 2 : 28, 3 : 31, 4 : 30, 5 : 31, 6 : 30, \n",
    "                  7 : 31, 8 : 31, 9 : 30, 10 : 31, 11 : 30, 12 : 31}\n",
    "    def __init__(self, date):\n",
    "        self.date = Date.data + date\n",
    "        \n",
    "    @staticmethod\n",
    "    def now():\n",
    "        return Date('today')\n",
    "    \n",
    "    @staticmethod\n",
    "    def yesterday(self) :\n",
    "        y, m, d = int(self.split(', ')[0]), int(self.split(', ')[1]), int(self.split(', ')[2])\n",
    "        if (d - 1) == 0 :\n",
    "            if (m - 1) == 0 :\n",
    "                y -= 1\n",
    "                m = 13\n",
    "            d = Date.month_days[m-1] + 1\n",
    "            m -= 1\n",
    "        return Date('%d, %d, %d' %(y, m, d - 1))\n",
    "\n",
    "    def show(self):\n",
    "        print(self.date)"
   ]
  },
  {
   "cell_type": "code",
   "execution_count": 2,
   "metadata": {},
   "outputs": [
    {
     "name": "stdout",
     "output_type": "stream",
     "text": [
      "date : 2022, 4, 7\n",
      "date : today\n",
      "date : 2022, 4, 6\n"
     ]
    }
   ],
   "source": [
    "a = Date('2022, 4, 7')\n",
    "a.show()\n",
    "b = Date.now()\n",
    "b.show()\n",
    "c = Date.yesterday('2022, 4, 7')\n",
    "c.show()"
   ]
  },
  {
   "cell_type": "code",
   "execution_count": 3,
   "metadata": {},
   "outputs": [
    {
     "name": "stdout",
     "output_type": "stream",
     "text": [
      "date : 2022, 4, 7\n",
      "date : today\n",
      "date : 2022, 4, 6\n"
     ]
    }
   ],
   "source": [
    "a = Date('2022, 4, 7')\n",
    "a.show()\n",
    "b = Date.now()\n",
    "print(b.date)\n",
    "c = Date.yesterday('2022, 4, 7')\n",
    "print(c.date)"
   ]
  },
  {
   "cell_type": "markdown",
   "metadata": {},
   "source": [
    "### 부록 : 월 1일, 1월 1일이 입력되었을 때의 yesterday( )함수"
   ]
  },
  {
   "cell_type": "code",
   "execution_count": 4,
   "metadata": {},
   "outputs": [
    {
     "name": "stdout",
     "output_type": "stream",
     "text": [
      "date : 2022, 3, 31\n",
      "date : 2021, 12, 31\n"
     ]
    }
   ],
   "source": [
    "d = Date.yesterday('2022, 4, 1')\n",
    "d.show()\n",
    "e = Date.yesterday('2022, 1, 1')\n",
    "e.show()"
   ]
  },
  {
   "cell_type": "code",
   "execution_count": 5,
   "metadata": {},
   "outputs": [
    {
     "name": "stdout",
     "output_type": "stream",
     "text": [
      "date : 2022, 3, 31\n",
      "date : 2021, 12, 31\n"
     ]
    }
   ],
   "source": [
    "print(d.date)\n",
    "print(e.date)"
   ]
  }
 ],
 "metadata": {
  "kernelspec": {
   "display_name": "Python 3",
   "language": "python",
   "name": "python3"
  },
  "language_info": {
   "codemirror_mode": {
    "name": "ipython",
    "version": 3
   },
   "file_extension": ".py",
   "mimetype": "text/x-python",
   "name": "python",
   "nbconvert_exporter": "python",
   "pygments_lexer": "ipython3",
   "version": "3.8.5"
  }
 },
 "nbformat": 4,
 "nbformat_minor": 4
}
