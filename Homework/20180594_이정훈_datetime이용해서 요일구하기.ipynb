{
 "cells": [
  {
   "cell_type": "code",
   "execution_count": 1,
   "metadata": {},
   "outputs": [
    {
     "name": "stdout",
     "output_type": "stream",
     "text": [
      "Overwriting W_2.py\n"
     ]
    }
   ],
   "source": [
    "%%writefile W_2.py\n",
    "\n",
    "import sys\n",
    "import datetime\n",
    "    \n",
    "if __name__ == '__main__' :\n",
    "    temp, year, month, day = sys.argv\n",
    "    week = ['일요일','월요일','화요일','수요일','목요일','금요일','토요일']\n",
    "    idx = datetime.datetime.weekday(datetime.date(int(year), int(month), int(day))) + 1\n",
    "    print(week[idx % 7])"
   ]
  },
  {
   "cell_type": "code",
   "execution_count": 2,
   "metadata": {},
   "outputs": [
    {
     "name": "stdout",
     "output_type": "stream",
     "text": [
      "화요일\n"
     ]
    }
   ],
   "source": [
    "%run W_2.py 2019 10 1"
   ]
  },
  {
   "cell_type": "code",
   "execution_count": 3,
   "metadata": {},
   "outputs": [
    {
     "name": "stdout",
     "output_type": "stream",
     "text": [
      "월요일\n"
     ]
    }
   ],
   "source": [
    "%run W_2.py 2019 10 14"
   ]
  },
  {
   "cell_type": "code",
   "execution_count": 4,
   "metadata": {},
   "outputs": [
    {
     "name": "stdout",
     "output_type": "stream",
     "text": [
      "금요일\n"
     ]
    }
   ],
   "source": [
    "%run W_2.py 2022 10 14"
   ]
  }
 ],
 "metadata": {
  "kernelspec": {
   "display_name": "Python 3",
   "language": "python",
   "name": "python3"
  },
  "language_info": {
   "codemirror_mode": {
    "name": "ipython",
    "version": 3
   },
   "file_extension": ".py",
   "mimetype": "text/x-python",
   "name": "python",
   "nbconvert_exporter": "python",
   "pygments_lexer": "ipython3",
   "version": "3.8.5"
  }
 },
 "nbformat": 4,
 "nbformat_minor": 4
}
