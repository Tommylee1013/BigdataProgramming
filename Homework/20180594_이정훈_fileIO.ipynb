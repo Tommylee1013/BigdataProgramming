{
 "cells": [
  {
   "cell_type": "markdown",
   "metadata": {},
   "source": [
    "### 실습 10 - 1"
   ]
  },
  {
   "cell_type": "code",
   "execution_count": 1,
   "metadata": {},
   "outputs": [
    {
     "name": "stdout",
     "output_type": "stream",
     "text": [
      "{'2': 'Alice Paul David Bob', '4': 'Cindy Stella Bill', '1': 'Henry Jenny Jessica Erin Tim', '3': 'John Joe Tom'}\n"
     ]
    }
   ],
   "source": [
    "if __name__ == '__main__' :\n",
    "    fp = open('ban_stu.txt', 'wt', encoding = 'utf-8')\n",
    "    fp.write('2 Alice Paul David Bob \\n')\n",
    "    fp.write('4 Cindy Stella Bill \\n' )\n",
    "    fp.write('1 Henry Jenny Jessica Erin Tim \\n')\n",
    "    fp.write('3 John Joe Tom \\n')\n",
    "    fp.close()\n",
    "    \n",
    "    with open('ban_stu.txt', 'rt') as fp :\n",
    "        data = dict()\n",
    "        for i in fp : x, y = i.replace(' \\n', '').split(' ', maxsplit = 1); data[x] = y\n",
    "    \n",
    "    print(data)"
   ]
  },
  {
   "cell_type": "markdown",
   "metadata": {},
   "source": [
    "### 실습 10 - 2"
   ]
  },
  {
   "cell_type": "markdown",
   "metadata": {},
   "source": [
    "1. information.txt라는 텍스트 파일을 생성하고 다음의 데이터를 그 파일에 출력하는 프로그램을 작성하시오 (write method를 이용하시오)"
   ]
  },
  {
   "cell_type": "code",
   "execution_count": 2,
   "metadata": {},
   "outputs": [],
   "source": [
    "if __name__ == '__main__' :\n",
    "    fp = open('information.txt', 'wt', encoding = 'utf-8')\n",
    "    fp.write('3\\n')\n",
    "    fp.write('3.14\\n')\n",
    "    fp.write('\"3.14\"\\n')\n",
    "    fp.close()"
   ]
  },
  {
   "cell_type": "markdown",
   "metadata": {},
   "source": [
    "2. 위의 information.txt를 읽어서 화면에 출력하는 프로그램을 작성하시오."
   ]
  },
  {
   "cell_type": "code",
   "execution_count": 3,
   "metadata": {},
   "outputs": [
    {
     "name": "stdout",
     "output_type": "stream",
     "text": [
      "3\n",
      "3.14\n",
      "\"3.14\"\n",
      "\n"
     ]
    }
   ],
   "source": [
    "if __name__ == '__main__' :\n",
    "    with open('information.txt', 'rt') as fp :\n",
    "        print(fp.read())"
   ]
  },
  {
   "cell_type": "markdown",
   "metadata": {},
   "source": [
    "3. information.dat라는 파일을 생성하고 상기의 데이터를 직렬화하는 프로 그램을 작성하시오.\n",
    "\n",
    "    - 직렬화를 위해 pickle module을 import한다"
   ]
  },
  {
   "cell_type": "code",
   "execution_count": 4,
   "metadata": {},
   "outputs": [],
   "source": [
    "import pickle\n",
    "if __name__ == '__main__' :\n",
    "    fp = open('information.dat', 'wb')\n",
    "    pickle.dump(3, fp)\n",
    "    pickle.dump(3.14, fp)\n",
    "    pickle.dump('\"3.14\"', fp)\n",
    "    fp.close"
   ]
  },
  {
   "cell_type": "markdown",
   "metadata": {},
   "source": [
    "4. 위의 information.dat를 역직렬화하고 화면에 출력하는 프로그램을 작성 하시오"
   ]
  },
  {
   "cell_type": "code",
   "execution_count": 5,
   "metadata": {},
   "outputs": [
    {
     "name": "stdout",
     "output_type": "stream",
     "text": [
      "3\n",
      "3.14\n",
      "\"3.14\"\n"
     ]
    }
   ],
   "source": [
    "if __name__ == '__main__' :\n",
    "    fp = open('information.dat', 'rb')\n",
    "    for i in range(0,3) :\n",
    "        data = pickle.load(fp)\n",
    "        print(data)\n",
    "    fp.close()"
   ]
  }
 ],
 "metadata": {
  "kernelspec": {
   "display_name": "Python 3 (ipykernel)",
   "language": "python",
   "name": "python3"
  },
  "language_info": {
   "codemirror_mode": {
    "name": "ipython",
    "version": 3
   },
   "file_extension": ".py",
   "mimetype": "text/x-python",
   "name": "python",
   "nbconvert_exporter": "python",
   "pygments_lexer": "ipython3",
   "version": "3.9.13"
  },
  "toc": {
   "base_numbering": 1,
   "nav_menu": {},
   "number_sections": true,
   "sideBar": true,
   "skip_h1_title": false,
   "title_cell": "Table of Contents",
   "title_sidebar": "Contents",
   "toc_cell": false,
   "toc_position": {},
   "toc_section_display": true,
   "toc_window_display": false
  }
 },
 "nbformat": 4,
 "nbformat_minor": 4
}
