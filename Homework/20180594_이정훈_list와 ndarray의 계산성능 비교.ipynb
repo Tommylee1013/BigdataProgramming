{
 "cells": [
  {
   "cell_type": "markdown",
   "metadata": {},
   "source": [
    "### 실습\n",
    "- python의 list와 numpy의 ndarray의 성능을 비교하기 위해 1000000개 이상의 원소를 갖는 두 배열 X와 Y의 각 인덱스의 합을 구하는 경우에 실행시간을 비교하시오\n",
    "- 10,000,000개 원소의 경우 실행 예"
   ]
  },
  {
   "cell_type": "code",
   "execution_count": 1,
   "metadata": {},
   "outputs": [
    {
     "name": "stdout",
     "output_type": "stream",
     "text": [
      "python list exe. time :  0.13693499565124512\n",
      "numpy ndarray exe. time :  0.018783092498779297\n",
      "numpy is in this example  7.290332817140971  faster\n"
     ]
    }
   ],
   "source": [
    "import time\n",
    "import numpy as np\n",
    "\n",
    "def pure_python_version() :\n",
    "    X = Y = [i for i in range(10000000)]\n",
    "    t0 = time.time()\n",
    "    X + Y\n",
    "    t1 = time.time()\n",
    "    return t1 - t0\n",
    "\n",
    "def numpy_version() :\n",
    "    X = Y = np.arange(10000000)\n",
    "    t0 = time.time()\n",
    "    X + Y\n",
    "    t1 = time.time()\n",
    "    return t1 - t0\n",
    "\n",
    "t1 = pure_python_version()\n",
    "t2 = numpy_version()\n",
    "print('python list exe. time : ', t1)\n",
    "print('numpy ndarray exe. time : ', t2)\n",
    "print('numpy is in this example ', t1/t2, ' faster')"
   ]
  }
 ],
 "metadata": {
  "kernelspec": {
   "display_name": "Python 3",
   "language": "python",
   "name": "python3"
  },
  "language_info": {
   "codemirror_mode": {
    "name": "ipython",
    "version": 3
   },
   "file_extension": ".py",
   "mimetype": "text/x-python",
   "name": "python",
   "nbconvert_exporter": "python",
   "pygments_lexer": "ipython3",
   "version": "3.8.5"
  }
 },
 "nbformat": 4,
 "nbformat_minor": 4
}
