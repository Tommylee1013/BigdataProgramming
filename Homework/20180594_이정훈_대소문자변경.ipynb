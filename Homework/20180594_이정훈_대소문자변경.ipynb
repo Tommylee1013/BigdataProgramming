{
 "cells": [
  {
   "cell_type": "code",
   "execution_count": 1,
   "id": "5a6ecf5f",
   "metadata": {},
   "outputs": [
    {
     "name": "stdout",
     "output_type": "stream",
     "text": [
      "Writing chan.py\n"
     ]
    }
   ],
   "source": [
    "%%writefile chan.py\n",
    "\n",
    "def countalphabet(x) :\n",
    "    d = dict()\n",
    "    for i in range(len(x)) : d[x[i].lower()] = x.count(x[i])\n",
    "    print(*['({} : {}) '.format(x,y) for x,y in d.items()])\n",
    "    return 0\n",
    "\n",
    "def change_lower_upper(x) :\n",
    "    s = str()\n",
    "    for i in x :\n",
    "        if i.isupper() == True : s += i.lower()\n",
    "        else : s += i.upper()\n",
    "    print(s)\n",
    "\n",
    "if __name__ == '__main__' :\n",
    "    while 1 :\n",
    "        x = input('Input : ')\n",
    "        if x == 'STOP' :\n",
    "            print('Bye')\n",
    "            break\n",
    "        else :\n",
    "            countalphabet(x)\n",
    "            change_lower_upper(x)"
   ]
  },
  {
   "cell_type": "code",
   "execution_count": 2,
   "id": "b6251971",
   "metadata": {},
   "outputs": [
    {
     "name": "stdout",
     "output_type": "stream",
     "text": [
      "Input : Sogang\n",
      "(s : 1)  (o : 1)  (g : 2)  (a : 1)  (n : 1) \n",
      "sOGANG\n",
      "Input : SOGANG\n",
      "(s : 1)  (o : 1)  (g : 2)  (a : 1)  (n : 1) \n",
      "sogang\n",
      "Input : Univ\n",
      "(u : 1)  (n : 1)  (i : 1)  (v : 1) \n",
      "uNIV\n",
      "Input : Tel\n",
      "(t : 1)  (e : 1)  (l : 1) \n",
      "tEL\n",
      "Input : STOP\n",
      "Bye\n"
     ]
    }
   ],
   "source": [
    "%run chan.py"
   ]
  },
  {
   "cell_type": "code",
   "execution_count": null,
   "id": "f3a8c983",
   "metadata": {},
   "outputs": [],
   "source": []
  }
 ],
 "metadata": {
  "kernelspec": {
   "display_name": "Python 3 (ipykernel)",
   "language": "python",
   "name": "python3"
  },
  "language_info": {
   "codemirror_mode": {
    "name": "ipython",
    "version": 3
   },
   "file_extension": ".py",
   "mimetype": "text/x-python",
   "name": "python",
   "nbconvert_exporter": "python",
   "pygments_lexer": "ipython3",
   "version": "3.9.7"
  }
 },
 "nbformat": 4,
 "nbformat_minor": 5
}
