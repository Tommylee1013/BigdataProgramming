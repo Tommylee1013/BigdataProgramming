{
 "cells": [
  {
   "cell_type": "code",
   "execution_count": 35,
   "metadata": {},
   "outputs": [],
   "source": [
    "import time\n",
    "import functools\n",
    "import re\n",
    "from datetime import datetime\n",
    "\n",
    "class Person :\n",
    "    manager, staff, parttime = 0, 0, 0\n",
    "    worker = manager + staff + parttime\n",
    "    td = datetime.today()\n",
    "    \n",
    "    def __init__(self, name, age, gender) :\n",
    "        self._Name = name\n",
    "        self._Age = age\n",
    "        self._Gender = gender\n",
    "        \n",
    "    @property\n",
    "    def Name(self) :\n",
    "        return self._Name\n",
    "    \n",
    "    @property\n",
    "    def Age(self) :\n",
    "        return self._Age\n",
    "    \n",
    "    @property\n",
    "    def Gender(self) :\n",
    "        return self._Gender\n",
    "        \n",
    "    def aboutMe(self) :\n",
    "        print('이름은 %s 이고, 나이는 %s살 입니다.' %(self._Name, self._Age))\n",
    "        \n",
    "class Employee(Person) :\n",
    "    def __init__(self, name, age, gender, salary, hiredate) :\n",
    "        Person.__init__(self, name, age, gender)\n",
    "        self.Salary = float(re.sub('[,]', '', salary))\n",
    "        self.Hiredate = hiredate\n",
    "        Person.worker += 1\n",
    "        \n",
    "    def goWork(self) :\n",
    "        print('출근했습니다.')\n",
    "        print('출근시간 [%i-%i-%i %i:%i]' % (Person.td.year, Person.td.month, Person.td.day, Person.td.hour, Person.td.minute))\n",
    "    \n",
    "    def doWork(self) :\n",
    "        t0 = time.time()\n",
    "        print('>>열심히 일합니다.<<')\n",
    "        Employee.Working()\n",
    "        elapsed = (time.time() - t0)\n",
    "        print('작업시간 : %.5f' % elapsed)\n",
    "    \n",
    "    def Working() :\n",
    "        print('다음을 계산하시오.')\n",
    "\n",
    "        import numpy as np\n",
    "        a = np.random.randint(100)\n",
    "        b = np.random.randint(100)\n",
    "        print('%i + %i' %(a,b))\n",
    "        ans = int(input('Answer : '))\n",
    "\n",
    "        if ans == (a + b) : print('정답입니다!'); return 0\n",
    "        else : print('다시 계산하세요.'); return Employee.Working()\n",
    "        \n",
    "    def leaveWork(self) :\n",
    "        print('퇴근했습니다.')\n",
    "        print('퇴근시간 [%i-%i-%i %i:%i]' % (Person.td.year, Person.td.month, Person.td.day, Person.td.hour, Person.td.minute))\n",
    "        \n",
    "    def aboutMe(self) :\n",
    "        Person.aboutMe(self)\n",
    "        print('급여는 %i원이고, 입사일은 %s입니다.' %(self.Salary, self.Hiredate))\n",
    "        \n",
    "class Manager(Employee) :\n",
    "    def __init__(self, name, age, gender, salary, hiredate, department, career) :\n",
    "        Employee.__init__(self, name, age, gender, salary, hiredate)\n",
    "        self.department = department\n",
    "        self.career = int(career)\n",
    "        if self.career >= 10 : self.Salary *= 1.3\n",
    "        Person.manager += 1\n",
    "        \n",
    "    def infoEmployees(self) :\n",
    "        print('총 직원 수 : %i명' % (Person.worker))\n",
    "        print('매니저 : %i명' % (Person.manager))\n",
    "        print('스태프 : %i명' % (Person.staff))\n",
    "        print('파트타임 : %i명' % (Person.parttime))\n",
    "        \n",
    "    def goHome(self) :\n",
    "        print('직원들에게 퇴근하자고 합니다.')\n",
    "        print('총 %i명의 직원이 퇴근합니다.' %(Person.worker))\n",
    "        print('퇴근시간 [%i-%i-%i %i:%i]' % (Person.td.year, Person.td.month, Person.td.day, Person.td.hour, Person.td.minute))\n",
    "        \n",
    "    def aboutMe(self) :\n",
    "        print('*' * 20, 'Manager Information', '*' * 20)\n",
    "        Employee.aboutMe(self)\n",
    "        print('부서는 %s이고, 경력은 %s년입니다.' %(self.department, self.career))\n",
    "        if self.career >= 10 : print('[NOTICE] 경력이 10년 이상이므로 임금이 30% 자동 인상되었습니다');\n",
    "        \n",
    "    def whenStrike(self, nego) :\n",
    "        print('*' * 20, 'Manager\\'s Choice', '*' * 20)\n",
    "        TF = input('급여를 {}% 인상하시겠습니까? (y/n) : '.format(nego))\n",
    "        return TF\n",
    "    \n",
    "    def whenComplain(self) :\n",
    "        print('*' * 20, 'Manager\\'s Choice', '*' * 20)\n",
    "        TF = input('고용노동부에서 민원이 제기되었다고 연락이 왔습니다. \\n출석하여 항변하시겠습니까? (y/n) : ')\n",
    "        return TF\n",
    "    \n",
    "class Staff(Employee) :\n",
    "    def __init__(self, name, age, gender, salary, hiredate, department, career) :\n",
    "        Employee.__init__(self, name, age, gender, salary, hiredate)\n",
    "        self.department = department\n",
    "        self.career = career\n",
    "        Person.staff += 1\n",
    "        \n",
    "    def leaveCorp(self) :\n",
    "        if Person.staff < 1 : \n",
    "            Person.staff = 0\n",
    "            print('회사에 남아있는 스태프가 없습니다.')\n",
    "        else :\n",
    "            print('회사 일에 지쳐 사표를 내려고 합니다.')\n",
    "            TF = input('매니저에게 사표를 던지시겠습니까?(y/n) : ')\n",
    "            if TF.lower() == 'y' : print('사표에 맞은 매니저가 통증을 호소합니다. 사표가 수리됩니다.'); Person.staff -= 1; print('회사를 퇴사합니다')\n",
    "            elif TF.lower() == 'n' : print('무단결근으로 처리되다 해고당했습니다.'); Person.staff -= 1; print('회사를 퇴사합니다')\n",
    "            else :\n",
    "                print('잘못된 입력입니다. 다시 시도하세요')\n",
    "                Staff.leaveCorp(self)\n",
    "        Person.worker = Person.manager + Person.staff + Person.parttime\n",
    "        \n",
    "    def aboutMe(self) :\n",
    "        print('*' * 20, 'Staff Information', '*' * 20)\n",
    "        Employee.aboutMe(self)\n",
    "        print('부서는 %s이고, 경력은 %s입니다.' %(self.department, self.career))\n",
    "\n",
    "class Hourly(Employee) :\n",
    "    def __init__(self, name, age, gender, salary, hiredate, department, period) :\n",
    "        Employee.__init__(self, name, age, gender, salary, hiredate)\n",
    "        self.department = department\n",
    "        self.period = period\n",
    "        Person.parttime += 1\n",
    "        \n",
    "    def aboutMe(self) :\n",
    "        print('*' * 20, 'Part time Employee Information', '*' * 20)\n",
    "        Employee.aboutMe(self)\n",
    "        print('부서는 %s이고, 계약기간은 %s입니다.' %(self.department, self.period))\n",
    "        \n",
    "    def Strike(self) :\n",
    "        print('급여가 너무 적어서 파업에 들어갑니다')\n",
    "        print('*' * 20, 'Employee\\'s Negotiation', '*' * 20)\n",
    "        print('매니저와 급여 협상에 들어갑니다.')\n",
    "        nego = int(input('임금 인상률을 제시하십시오(%) : '))\n",
    "        TF = Manager.whenStrike(self, nego)\n",
    "        if TF == 'y' : print('급여 인상이 완료되었습니다.'); self.Salary *= (1 + nego * 0.01)\n",
    "        elif TF == 'n' : print('급여 협상이 결렬되었습니다. 괘씸죄로 급여가 {}% 삭감됩니다.'.format(nego)); self.Salary *= (1 - nego * 0.01)\n",
    "        else : print('잘못된 입력입니다. 다시 시도하세요'); Hourly.Strike(self)\n",
    "            \n",
    "    def Complaints(self) :\n",
    "        print('근무환경에 불만이 있어 고용 노동청에 민원을 넣습니다.')\n",
    "        TF = Manager.whenComplain(self)\n",
    "        if TF == 'y' : print('매니저가 항변에 성공했습니다.\\n민원을 넣은 사실이 적발되어 급여가 10% 삭감됩니다.'); self.Salary *= 0.9\n",
    "        elif TF == 'n' : print('매니저가 항변을 포기했습니다. \\n급여가 10% 인상됩니다'); self.Salary *= 1.1\n",
    "        else : print('잘못된 입력입니다. 다시 시도하세요'); Hourly.Complaints()\n",
    "        Person.worker = Person.manager + Person.staff + Person.parttime"
   ]
  },
  {
   "cell_type": "code",
   "execution_count": 36,
   "metadata": {},
   "outputs": [],
   "source": [
    "manager1 = Manager('김철수','45','남','4,500,000','2010년 1월 16일','경리부','12')"
   ]
  },
  {
   "cell_type": "code",
   "execution_count": 37,
   "metadata": {},
   "outputs": [
    {
     "name": "stdout",
     "output_type": "stream",
     "text": [
      "총 직원 수 : 1명\n",
      "매니저 : 1명\n",
      "스태프 : 0명\n",
      "파트타임 : 0명\n"
     ]
    }
   ],
   "source": [
    "manager1.infoEmployees()"
   ]
  },
  {
   "cell_type": "code",
   "execution_count": 38,
   "metadata": {},
   "outputs": [
    {
     "name": "stdout",
     "output_type": "stream",
     "text": [
      "******************** Manager Information ********************\n",
      "이름은 김철수 이고, 나이는 45살 입니다.\n",
      "급여는 5850000원이고, 입사일은 2010년 1월 16일입니다.\n",
      "부서는 경리부이고, 경력은 12년입니다.\n",
      "[NOTICE] 경력이 10년 이상이므로 임금이 30% 자동 인상되었습니다\n"
     ]
    }
   ],
   "source": [
    "manager1.aboutMe()"
   ]
  },
  {
   "cell_type": "code",
   "execution_count": 39,
   "metadata": {},
   "outputs": [
    {
     "name": "stdout",
     "output_type": "stream",
     "text": [
      ">>열심히 일합니다.<<\n",
      "다음을 계산하시오.\n",
      "7 + 77\n",
      "Answer : 84\n",
      "정답입니다!\n",
      "작업시간 : 2.37315\n"
     ]
    }
   ],
   "source": [
    "manager1.doWork()"
   ]
  },
  {
   "cell_type": "code",
   "execution_count": 40,
   "metadata": {},
   "outputs": [
    {
     "name": "stdout",
     "output_type": "stream",
     "text": [
      "직원들에게 퇴근하자고 합니다.\n",
      "총 1명의 직원이 퇴근합니다.\n",
      "퇴근시간 [2022-10-11 22:37]\n"
     ]
    }
   ],
   "source": [
    "manager1.goHome()"
   ]
  },
  {
   "cell_type": "code",
   "execution_count": 41,
   "metadata": {},
   "outputs": [
    {
     "name": "stdout",
     "output_type": "stream",
     "text": [
      "출근했습니다.\n",
      "출근시간 [2022-10-11 22:37]\n"
     ]
    }
   ],
   "source": [
    "manager1.goWork()"
   ]
  },
  {
   "cell_type": "code",
   "execution_count": 42,
   "metadata": {},
   "outputs": [
    {
     "name": "stdout",
     "output_type": "stream",
     "text": [
      "퇴근했습니다.\n",
      "퇴근시간 [2022-10-11 22:37]\n"
     ]
    }
   ],
   "source": [
    "manager1.leaveWork()"
   ]
  },
  {
   "cell_type": "code",
   "execution_count": 44,
   "metadata": {},
   "outputs": [],
   "source": [
    "staff1 = Staff('이준성','35','남','3,500,000','2020년 10월 8일','회계부','5년')"
   ]
  },
  {
   "cell_type": "code",
   "execution_count": 45,
   "metadata": {},
   "outputs": [
    {
     "name": "stdout",
     "output_type": "stream",
     "text": [
      ">>열심히 일합니다.<<\n",
      "다음을 계산하시오.\n",
      "77 + 32\n",
      "Answer : 109\n",
      "정답입니다!\n",
      "작업시간 : 2.98555\n"
     ]
    }
   ],
   "source": [
    "staff1.doWork()"
   ]
  },
  {
   "cell_type": "code",
   "execution_count": 46,
   "metadata": {},
   "outputs": [],
   "source": [
    "part1 = Hourly('이성만','23','남','860,000','2022년 2월 22일','경리부','12개월')"
   ]
  },
  {
   "cell_type": "code",
   "execution_count": 47,
   "metadata": {},
   "outputs": [
    {
     "name": "stdout",
     "output_type": "stream",
     "text": [
      "******************** Part time Employee Information ********************\n",
      "이름은 이성만 이고, 나이는 23살 입니다.\n",
      "급여는 860000원이고, 입사일은 2022년 2월 22일입니다.\n",
      "부서는 경리부이고, 계약기간은 12개월입니다.\n"
     ]
    }
   ],
   "source": [
    "part1.aboutMe()"
   ]
  },
  {
   "cell_type": "code",
   "execution_count": 48,
   "metadata": {},
   "outputs": [
    {
     "name": "stdout",
     "output_type": "stream",
     "text": [
      "급여가 너무 적어서 파업에 들어갑니다\n",
      "******************** Employee's Negotiation ********************\n",
      "매니저와 급여 협상에 들어갑니다.\n",
      "임금 인상률을 제시하십시오(%) : 20\n",
      "******************** Manager's Choice ********************\n",
      "급여를 20% 인상하시겠습니까? (y/n) : y\n",
      "급여 인상이 완료되었습니다.\n"
     ]
    }
   ],
   "source": [
    "part1.Strike()"
   ]
  },
  {
   "cell_type": "code",
   "execution_count": 49,
   "metadata": {},
   "outputs": [
    {
     "name": "stdout",
     "output_type": "stream",
     "text": [
      "******************** Part time Employee Information ********************\n",
      "이름은 이성만 이고, 나이는 23살 입니다.\n",
      "급여는 1032000원이고, 입사일은 2022년 2월 22일입니다.\n",
      "부서는 경리부이고, 계약기간은 12개월입니다.\n"
     ]
    }
   ],
   "source": [
    "part1.aboutMe()"
   ]
  },
  {
   "cell_type": "code",
   "execution_count": 50,
   "metadata": {},
   "outputs": [
    {
     "name": "stdout",
     "output_type": "stream",
     "text": [
      "근무환경에 불만이 있어 고용 노동청에 민원을 넣습니다.\n",
      "******************** Manager's Choice ********************\n",
      "고용노동부에서 민원이 제기되었다고 연락이 왔습니다. \n",
      "출석하여 항변하시겠습니까? (y/n) : y\n",
      "매니저가 항변에 성공했습니다.\n",
      "민원을 넣은 사실이 적발되어 급여가 10% 삭감됩니다.\n"
     ]
    }
   ],
   "source": [
    "part1.Complaints()"
   ]
  },
  {
   "cell_type": "code",
   "execution_count": 51,
   "metadata": {},
   "outputs": [
    {
     "data": {
      "text/plain": [
       "928800.0"
      ]
     },
     "execution_count": 51,
     "metadata": {},
     "output_type": "execute_result"
    }
   ],
   "source": [
    "part1.Salary"
   ]
  },
  {
   "cell_type": "code",
   "execution_count": 52,
   "metadata": {},
   "outputs": [],
   "source": [
    "part2 = Hourly('김준호','21','남','750,000','2021년 9월 16일','경리부','12개월')"
   ]
  },
  {
   "cell_type": "code",
   "execution_count": 54,
   "metadata": {},
   "outputs": [
    {
     "name": "stdout",
     "output_type": "stream",
     "text": [
      "총 직원 수 : 4명\n",
      "매니저 : 1명\n",
      "스태프 : 1명\n",
      "파트타임 : 2명\n"
     ]
    }
   ],
   "source": [
    "manager1.infoEmployees()"
   ]
  }
 ],
 "metadata": {
  "kernelspec": {
   "display_name": "Python 3 (ipykernel)",
   "language": "python",
   "name": "python3"
  },
  "language_info": {
   "codemirror_mode": {
    "name": "ipython",
    "version": 3
   },
   "file_extension": ".py",
   "mimetype": "text/x-python",
   "name": "python",
   "nbconvert_exporter": "python",
   "pygments_lexer": "ipython3",
   "version": "3.9.13"
  },
  "toc": {
   "base_numbering": 1,
   "nav_menu": {},
   "number_sections": true,
   "sideBar": true,
   "skip_h1_title": false,
   "title_cell": "Table of Contents",
   "title_sidebar": "Contents",
   "toc_cell": false,
   "toc_position": {},
   "toc_section_display": true,
   "toc_window_display": false
  }
 },
 "nbformat": 4,
 "nbformat_minor": 4
}
