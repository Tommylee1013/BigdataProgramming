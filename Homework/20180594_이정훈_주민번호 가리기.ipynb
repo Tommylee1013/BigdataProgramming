{
 "cells": [
  {
   "cell_type": "code",
   "execution_count": 1,
   "metadata": {},
   "outputs": [],
   "source": [
    "import re\n",
    "class hideID(object) :\n",
    "    def __init__(self, data) :\n",
    "        self.data = [v for v in data.split('\\n') if v]\n",
    "        \n",
    "    def hide(self) :\n",
    "        for i in self.data :\n",
    "            info = re.compile(r'(\\w+\\s*\\w*)\\s+(\\w+-\\w+)')\n",
    "            m = info.search(i)\n",
    "            if re.findall('-\\d', m[2])[0][1] == ('1' or '3') : sex = '남'\n",
    "            elif re.findall('-\\d', m[2])[0][1] == ('2' or '4') : sex = '여'\n",
    "            print(m[1],sex,re.sub('\\d{7}', '*'*7 , m[2]))\n",
    "            \n",
    "if __name__ == '__main__' :\n",
    "    data = '''\n",
    "park sunje 890901-1074422\n",
    "kim sunhee 990103-2079912\n",
    "'''\n",
    "    ID = hideID(data)"
   ]
  },
  {
   "cell_type": "code",
   "execution_count": 2,
   "metadata": {},
   "outputs": [
    {
     "name": "stdout",
     "output_type": "stream",
     "text": [
      "park sunje 남 890901-*******\n",
      "kim sunhee 여 990103-*******\n"
     ]
    }
   ],
   "source": [
    "ID.hide()"
   ]
  },
  {
   "cell_type": "code",
   "execution_count": 3,
   "metadata": {},
   "outputs": [
    {
     "name": "stdout",
     "output_type": "stream",
     "text": [
      "홍길동 남 560922-******* 02-705-8491\n",
      "홍길동 남 560922-******* 042-7052-8491\n",
      "김바한솔 남 911212-******* 042-705-8491\n",
      "김연찬 남 920922-******* 031-7054-8491\n"
     ]
    }
   ],
   "source": [
    "class hideID(object) :\n",
    "    def __init__(self, data) :\n",
    "        self.data = data\n",
    "        \n",
    "    def hide(self) :\n",
    "        for i in self.data :\n",
    "            info = re.compile(r'(\\w+\\s*\\w*)\\s+(\\w+-\\w+)\\s*(\\w*[-]\\w*[-]\\w*)')\n",
    "            m = info.search(i)\n",
    "            if re.findall('-\\d', m[2])[0][1] == ('1' or '3') : sex = '남'\n",
    "            elif re.findall('-\\d', m[2])[0][1] == ('2' or '4') : sex = '여'\n",
    "            print(m[1], sex, re.sub('\\d{7}', '*'*7 , m[2]), m[3])\n",
    "\n",
    "if __name__ == '__main__' : \n",
    "    fp = open('Testdata.txt', 'wt', encoding = 'utf-8')\n",
    "    fp.write('홍길동 560922-1089123 02-705-8491\\n')\n",
    "    fp.write('홍길동 560922-1089123 042-7052-8491\\n')\n",
    "    fp.write('김바한솔 911212-1089123 042-705-8491\\n')\n",
    "    fp.write('김연찬 920922-1089123 031-7054-8491\\n')\n",
    "    fp.close()\n",
    "    with open('Testdata.txt', 'rt') as fp :\n",
    "        temp = hideID(fp)\n",
    "        temp.hide()"
   ]
  }
 ],
 "metadata": {
  "kernelspec": {
   "display_name": "Python 3",
   "language": "python",
   "name": "python3"
  },
  "language_info": {
   "codemirror_mode": {
    "name": "ipython",
    "version": 3
   },
   "file_extension": ".py",
   "mimetype": "text/x-python",
   "name": "python",
   "nbconvert_exporter": "python",
   "pygments_lexer": "ipython3",
   "version": "3.8.5"
  }
 },
 "nbformat": 4,
 "nbformat_minor": 4
}
