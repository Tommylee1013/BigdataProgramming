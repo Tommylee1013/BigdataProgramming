{
 "cells": [
  {
   "cell_type": "code",
   "execution_count": 1,
   "metadata": {},
   "outputs": [
    {
     "name": "stdout",
     "output_type": "stream",
     "text": [
      "Initializing Verbose.\n",
      "Program Start\n",
      "\n",
      "Begin my_function\n",
      "hello, Mickey!\n",
      "End my_function\n",
      "\n",
      "Begin my_function\n",
      "hello, Minnie!\n",
      "End my_function\n",
      "\n",
      "Begin my_function\n",
      "hello, Donald!\n",
      "End my_function\n"
     ]
    }
   ],
   "source": [
    "def verbose(func) :\n",
    "    print('Initializing Verbose.')\n",
    "    \n",
    "    def new_func(name) :\n",
    "        print('\\nBegin', func.__name__)\n",
    "        func(name)\n",
    "        print('End', func.__name__)\n",
    "    return new_func\n",
    "\n",
    "@verbose\n",
    "def my_function(name) :\n",
    "    print('hello, %s!' %(name))\n",
    "\n",
    "print('Program Start')\n",
    "my_function('Mickey')\n",
    "my_function('Minnie')\n",
    "my_function('Donald')"
   ]
  }
 ],
 "metadata": {
  "kernelspec": {
   "display_name": "Python 3",
   "language": "python",
   "name": "python3"
  },
  "language_info": {
   "codemirror_mode": {
    "name": "ipython",
    "version": 3
   },
   "file_extension": ".py",
   "mimetype": "text/x-python",
   "name": "python",
   "nbconvert_exporter": "python",
   "pygments_lexer": "ipython3",
   "version": "3.8.5"
  }
 },
 "nbformat": 4,
 "nbformat_minor": 4
}
