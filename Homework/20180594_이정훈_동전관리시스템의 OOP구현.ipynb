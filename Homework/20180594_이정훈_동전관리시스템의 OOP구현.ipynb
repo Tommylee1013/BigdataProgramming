{
 "cells": [
  {
   "cell_type": "markdown",
   "metadata": {},
   "source": [
    "## 과제 9. 동전관리시스템의 OOP 구현\n",
    "### 20180594 이정훈"
   ]
  },
  {
   "cell_type": "markdown",
   "metadata": {},
   "source": [
    "### Data Writing"
   ]
  },
  {
   "cell_type": "code",
   "execution_count": 1,
   "metadata": {},
   "outputs": [],
   "source": [
    "if __name__ == '__main__' :\n",
    "    fp = open('purse-input.txt', 'wt', encoding = 'utf-8')\n",
    "    fp.write('서강일, 500, 100, 10, 50, 500, 100, 100\\n')\n",
    "    fp.write('서강이, 500, 50, 50, 100, 100, 10\\n' )\n",
    "    fp.write('서강삼, 100, 100, 100, 10\\n')\n",
    "    fp.write('서강사, 500, 500, 500, 50, 50, 50, 100\\n')\n",
    "    fp.write('서강오, 500, 100, 100, 500, 100, 10, 10, 1\\n')\n",
    "    fp.write('서강육, 100, 50, 100, 50, 100, 100, 500\\n')\n",
    "    fp.write('서강칠, 50, 500, 500, 100, 100\\n')\n",
    "    fp.write('서강팔, 500, 500,500, 50, 100, 100\\n')\n",
    "    fp.close()"
   ]
  },
  {
   "cell_type": "markdown",
   "metadata": {},
   "source": [
    "<span style=\"font-size:120%\">\n",
    "    File Writing을 통해 초기 데이터를 준비해 줍니다\n",
    "    \n",
    "## Probelm\n",
    "    \n",
    "    아래와 같은 입력에 대해, 지갑 안의 동전들을 관리하는 시스템을 다음 조건을 만족하면서 추가적인 기능을 갖도록 객체지향프로그래밍으로 설계하시오.\n",
    "    \n",
    "    ☞ 조건\n",
    "    \n",
    "- 입력은 purse-input.txt 파일에서 읽어 오시오. <br>\n",
    "    \n",
    "    \n",
    "- 두 개의 클래스, Purse, PurseMgtSystem을 각각 다른 파일에서 만들어 해결하시오. <br>\n",
    "    \n",
    "    \n",
    "- 주어진 동전 정보를 활용하여 Purse 객체를 만들고, 이 객체를 PurseMgtSystem 클래스에서 입력 받아 전체 지갑들을 처리하시오. <br>\n",
    "    \n",
    "    \n",
    "- class의 각 속성은 밑줄 하나로 시작하게 하여 즉, 보호 모드로서 @property를 이용하시오. _num, _name, _coins <br>\n",
    "    \n",
    "    \n",
    "- Purse class 객체는 PurseMgtSystem 클래스의 register_purse 메서드로 PurseMgtSystem에 등록시키고, 모든 지갑들의 객체가 등록되면 PurseMgtSystem의 정보처리 process 메서드를 호출해서 보유자들의 순위를 구하시오. 이때, 동순위인 경우 같은 등수로 처리하시오. <br>\n",
    "    \n",
    "    \n",
    "- 동전을 입력 받아서 그 동전의 최다 보유자를 출력하시오. 이때, 여러 명인 경우, 해당 보유자들 모두 출력하시오 <br>\n",
    "    \n",
    "\n",
    "- 이 프로그램의 실행시간을 decorator를 사용해서 구하시오. <br>\n",
    "    \n",
    "    \n",
    "- 입력에 500, 100, 50, 10, 1 이외의 숫자데이터가 있는 경우는 아래 메시지를 출력하고 종료하시오. <br>\n",
    "    \n",
    "    \n",
    ">잘못된 동전 데이터가 있습니다.\n",
    ">동전관리시스템이 비정상 종료합니다.\n",
    "\n",
    "    \n",
    "    위 조건외에 추가적인 기능을 갖도록 확장해서 구현하시오."
   ]
  },
  {
   "cell_type": "markdown",
   "metadata": {},
   "source": [
    "## Purse Class"
   ]
  },
  {
   "cell_type": "code",
   "execution_count": 2,
   "metadata": {},
   "outputs": [
    {
     "name": "stdout",
     "output_type": "stream",
     "text": [
      "Overwriting Purse.py\n"
     ]
    }
   ],
   "source": [
    "%%writefile Purse.py\n",
    "class Purse(object) :\n",
    "    def __init__(self) :\n",
    "        self._num = 0\n",
    "        self._names = ''\n",
    "        self._coins = 0\n",
    "        \n",
    "    @property\n",
    "    def num(self) :\n",
    "        return self._num\n",
    "    \n",
    "    @num.setter\n",
    "    def num(self, value) :\n",
    "        self._num = int(value)\n",
    "    \n",
    "    @property\n",
    "    def name(self) :\n",
    "        return self._names\n",
    "    \n",
    "    @name.setter\n",
    "    def name(self, value) :\n",
    "        self._name = value\n",
    "    \n",
    "    @property\n",
    "    def coins(self) :\n",
    "        return self._coins\n",
    "    \n",
    "    @coins.setter\n",
    "    def coins(self, value) :\n",
    "        value = list(map(int, value))\n",
    "        self._coins = value"
   ]
  },
  {
   "cell_type": "markdown",
   "metadata": {},
   "source": [
    "<span style=\"font-size:120%\">\n",
    "    Class를 만들어 준 뒤 파일로 따로 저장해 줍니다"
   ]
  },
  {
   "cell_type": "code",
   "execution_count": 3,
   "metadata": {},
   "outputs": [],
   "source": [
    "%run Purse.py"
   ]
  },
  {
   "cell_type": "markdown",
   "metadata": {},
   "source": [
    "### Processing Part\n",
    "\n",
    "<br>\n",
    "<span style=\"font-size:120%\">\n",
    "\n",
    "* CheckTime 함수로 실행 시간을 구해 줍니다 <br>\n",
    "    \n",
    "    \n",
    "* CoinError Class를 통해 예외 처리를 해 줍니다<br>\n",
    "    \n",
    "    \n",
    "* PurseMgtSystem Class를 통해 실질적인 계산을 돌려 줍니다.\n",
    "    \n",
    "    * Data는 미리 입력했던 purse-input.txt를 통해서 Purse class를 통해 instance 해 줍니다.\n",
    "    \n",
    "    * register_purse 함수를 통해 Class 내의 자유변수로 저장해 줍니다. 범용성을 위해 for문을 이용하여 데이터를 입력한 뒤 휘발되게 하여, 데이터를 수정한 뒤 얼마든지 재사용이 가능토록 하였습니다.\n",
    "    \n",
    "    * 저장된 정보는 process 함수를 통해 관계형 데이터 형태로 변환해 줍니다. 이 때, 입력받은 동전의 정보를 count하여 저장합니다. 모든 변환이 완료되면 새로운 column인 rank를 추가하여 순위를 계산해 줍니다.\n",
    "    \n",
    "    * print_rank 함수를 통해 입력받은 동전이 가장 많은 사람의 정보를 출력해 줍니다. 이 때, 지정된 동전의 형태가 아닌 다른 동전이 입력되면 CoinError를 raise 하여 프로그램을 종료시킵니다.\n",
    "    \n",
    "    * plot_coins는 개인적으로 추가한 함수입니다. matplotlib.pyplot을 이용하여 각 사람당 가진 금액을 plotting해 줍니다.\n",
    "    \n",
    "    * distplot 함수는 가진 금액에 대해서 분포를 알 수 있습니다.\n",
    "    \n",
    "    * histplot은 Rank를 기준으로 입력한 동전을 얼마나 많이 소지하고 있는지 보여줍니다.\n",
    "    \n",
    "    \n",
    "    \n",
    "* runProgram 함수는 그간의 모든 python 코드들을 실행시키는 함수입니다. Decorator를 이용해 Checktime을 불러 코드의 총 실행시간을 출력해 줍니다."
   ]
  },
  {
   "cell_type": "code",
   "execution_count": 4,
   "metadata": {},
   "outputs": [],
   "source": [
    "import time\n",
    "import pandas as pd, numpy as np, matplotlib.pyplot as plt, seaborn as sns\n",
    "%matplotlib inline\n",
    "\n",
    "def checkTime(func): \n",
    "    def intime():\n",
    "        t0 = time.time()\n",
    "        func()\n",
    "        t1 = time.time()\n",
    "        print(\"실행시간은 : %.20f 초\" %(t1 - t0))\n",
    "        \n",
    "    return intime\n",
    "\n",
    "info = []\n",
    "with open('purse-input.txt', 'rt') as fp :\n",
    "    num = 0\n",
    "    for i in fp :\n",
    "        num += 1\n",
    "        x, y = i.replace('\\n', '').replace(' ','').split(',', maxsplit = 1)\n",
    "        y = y.split(',')\n",
    "        y = list(map(int, y))\n",
    "        temp = (num, x, y)\n",
    "        info.append(temp)\n",
    "        \n",
    "class CoinError(Exception) :\n",
    "    def __init__(self, msg) :\n",
    "        self._massage = msg\n",
    "\n",
    "class PurseMgtSystem(Purse) :\n",
    "    def __init__(self) :\n",
    "        Purse.__init__(self)\n",
    "        self._P = Purse()\n",
    "        self._sum = 0\n",
    "        self._rank = 0\n",
    "        self._data = []\n",
    "        self._df = pd.DataFrame()\n",
    "        self._enteredcoin = 0\n",
    "    \n",
    "    def register_purse(self) :\n",
    "        for i in range(len(info)) :\n",
    "            self._P.num, self._P.name, self._P.coins = info[i][0], info[i][1], info[i][2]\n",
    "            for i in self._P.coins :\n",
    "                if i not in [1, 10, 50, 100, 500] : \n",
    "                    raise CoinError('잘못된 동전 데이터가 있습니다. \\n동전관리시스템이 비정상 종료합니다.\\n')\n",
    "            self._data.append((self._P.num, self._P.name, self._P.coins))\n",
    "\n",
    "    def process(self) :\n",
    "        for i in range(len(self._data)) :\n",
    "            temp = pd.DataFrame({'name' : self._data[i][1],\n",
    "                                 500 : self._data[i][2].count(500), \n",
    "                                 100 : self._data[i][2].count(100), \n",
    "                                 50 : self._data[i][2].count(50), \n",
    "                                 10 : self._data[i][2].count(10), \n",
    "                                 1 : self._data[i][2].count(1),\n",
    "                                 'sum' : sum(self._data[i][2])},\n",
    "                                 index = [self._data[i][0]])\n",
    "            self._df = pd.concat([self._df, temp], axis = 0)\n",
    "            \n",
    "        self._df['rank'] = self._df['sum'].rank(method = 'min', ascending = False).astype('int')\n",
    "        self._df = self._df.sort_values('rank')\n",
    "        \n",
    "        for i in range(len(self._df.index)) :\n",
    "            num = self._df.index[i]\n",
    "            name = self._df['name'][num]\n",
    "            count = self._df.iloc[i,1:6].astype('int')\n",
    "            summed = self._df['sum'][num]\n",
    "            rank = self._df['rank'][num]\n",
    "            print('번호 : %d 이름 : %s 500원 : %d 100원 : %d 50원 : %d 10원 : %d 1원 : %d 총액 : %5d 순위 : %d' \n",
    "                  %(num, name, count[500], count[100], count[50], count[10], count[1], summed, rank))\n",
    "        print('')\n",
    "        \n",
    "    def print_rank(self) :\n",
    "        coin = int(input('동전 : '))\n",
    "        if coin not in [1, 10, 50, 100, 500] : \n",
    "            raise CoinError('잘못된 동전 데이터가 있습니다. \\n동전관리시스템이 비정상 종료합니다.\\n')\n",
    "        \n",
    "        print('최다 보유자들')\n",
    "        find = self._df[self._df[coin] == self._df[coin].max()]\n",
    "        for k in find.index :\n",
    "            print('번호 : %d 이름 : %s 개수 : %d' %(k, find['name'][k], find[coin][k]))\n",
    "        self._enteredcoin = coin\n",
    "        print()\n",
    "            \n",
    "    def plot_coins(self) :\n",
    "        sns.set_theme(style = \"white\", palette = \"pastel\")\n",
    "        plt.figure(figsize = (8,6))\n",
    "        sns.barplot(x = self._df.index, y = self._df['sum'])\n",
    "        plt.xlabel('Index', fontsize = 15, fontfamily = 'Serif')\n",
    "        plt.ylabel('Money Owned', fontsize = 15, fontfamily = 'Serif')\n",
    "        plt.title('Money Information', fontsize = 20, fontweight = 'bold', fontfamily = 'Serif')\n",
    "        plt.show()\n",
    "        \n",
    "    def distplot(self) :\n",
    "        sns.set_theme(style = \"white\", palette = \"pastel\")\n",
    "        sns.displot(data = self._df['sum'], kde = True, height = 6, aspect = 1.3)\n",
    "        plt.title('Distribution', fontsize = 20, fontweight = 'bold', fontfamily = 'Serif')\n",
    "        plt.xlabel('Money Owned', fontsize = 15, fontfamily = 'Serif')\n",
    "        plt.ylabel('Frequency', fontsize = 15, fontfamily = 'Serif')\n",
    "        plt.show()\n",
    "        \n",
    "    def histplot(self) :\n",
    "        sns.displot(data = self._df['sum'], x = self._df['rank'], \n",
    "                    y = self._df[self._enteredcoin], kind = 'hist', cbar = True, height = 6, aspect = 1.3)\n",
    "        plt.title('Who is owning entered coins?', fontsize = 20, fontweight = 'bold', fontfamily = 'Serif')\n",
    "        plt.xlabel('Rank', fontsize = 15, fontfamily = 'Serif')\n",
    "        plt.ylabel('%d' %self._enteredcoin, fontsize = 15, fontfamily = 'Serif')\n",
    "        plt.show()\n",
    "    \n",
    "@checkTime\n",
    "def runProgram() : \n",
    "    data = PurseMgtSystem()\n",
    "    try : \n",
    "        data.register_purse()\n",
    "        data.process()\n",
    "        try : \n",
    "            data.print_rank() \n",
    "            data.plot_coins()\n",
    "            data.distplot()\n",
    "            data.histplot()\n",
    "        except CoinError as e : print(e.args[0])\n",
    "    except CoinError as e : print(e.args[0])"
   ]
  },
  {
   "cell_type": "code",
   "execution_count": 5,
   "metadata": {},
   "outputs": [
    {
     "name": "stdout",
     "output_type": "stream",
     "text": [
      "번호 : 4 이름 :  500원 : 3 100원 : 1 50원 : 3 10원 : 0 1원 : 0 총액 :  1750 순위 : 1\n",
      "번호 : 8 이름 :  500원 : 3 100원 : 2 50원 : 1 10원 : 0 1원 : 0 총액 :  1750 순위 : 1\n",
      "번호 : 1 이름 :  500원 : 2 100원 : 3 50원 : 1 10원 : 1 1원 : 0 총액 :  1360 순위 : 3\n",
      "번호 : 5 이름 :  500원 : 2 100원 : 3 50원 : 0 10원 : 2 1원 : 1 총액 :  1321 순위 : 4\n",
      "번호 : 7 이름 :  500원 : 2 100원 : 2 50원 : 1 10원 : 0 1원 : 0 총액 :  1250 순위 : 5\n",
      "번호 : 6 이름 :  500원 : 1 100원 : 4 50원 : 2 10원 : 0 1원 : 0 총액 :  1000 순위 : 6\n",
      "번호 : 2 이름 :  500원 : 1 100원 : 2 50원 : 2 10원 : 1 1원 : 0 총액 :   810 순위 : 7\n",
      "번호 : 3 이름 :  500원 : 0 100원 : 3 50원 : 0 10원 : 1 1원 : 0 총액 :   310 순위 : 8\n",
      "\n",
      "동전 : 4\n",
      "잘못된 동전 데이터가 있습니다. \n",
      "동전관리시스템이 비정상 종료합니다.\n",
      "\n",
      "실행시간은 : 3.88973593711853027344 초\n"
     ]
    }
   ],
   "source": [
    "if __name__ == '__main__' : runProgram()"
   ]
  },
  {
   "cell_type": "markdown",
   "metadata": {},
   "source": [
    "<span style=\"font-size:120%\">\n",
    "    '1,10,50,100,500'원이 아니라면, 위와같이 예외 처리를 해 줍니다."
   ]
  },
  {
   "cell_type": "code",
   "execution_count": 6,
   "metadata": {
    "scrolled": false
   },
   "outputs": [
    {
     "name": "stdout",
     "output_type": "stream",
     "text": [
      "번호 : 4 이름 :  500원 : 3 100원 : 1 50원 : 3 10원 : 0 1원 : 0 총액 :  1750 순위 : 1\n",
      "번호 : 8 이름 :  500원 : 3 100원 : 2 50원 : 1 10원 : 0 1원 : 0 총액 :  1750 순위 : 1\n",
      "번호 : 1 이름 :  500원 : 2 100원 : 3 50원 : 1 10원 : 1 1원 : 0 총액 :  1360 순위 : 3\n",
      "번호 : 5 이름 :  500원 : 2 100원 : 3 50원 : 0 10원 : 2 1원 : 1 총액 :  1321 순위 : 4\n",
      "번호 : 7 이름 :  500원 : 2 100원 : 2 50원 : 1 10원 : 0 1원 : 0 총액 :  1250 순위 : 5\n",
      "번호 : 6 이름 :  500원 : 1 100원 : 4 50원 : 2 10원 : 0 1원 : 0 총액 :  1000 순위 : 6\n",
      "번호 : 2 이름 :  500원 : 1 100원 : 2 50원 : 2 10원 : 1 1원 : 0 총액 :   810 순위 : 7\n",
      "번호 : 3 이름 :  500원 : 0 100원 : 3 50원 : 0 10원 : 1 1원 : 0 총액 :   310 순위 : 8\n",
      "\n",
      "동전 : 500\n",
      "최다 보유자들\n",
      "번호 : 4 이름 :  개수 : 3\n",
      "번호 : 8 이름 :  개수 : 3\n",
      "\n"
     ]
    },
    {
     "data": {
      "image/png": "[encoded data removed]",
      "text/plain": [
       "<Figure size 576x432 with 1 Axes>"
      ]
     },
     "metadata": {},
     "output_type": "display_data"
    },
    {
     "data": {
      "image/png": "[encoded data removed]",
      "text/plain": [
       "<Figure size 561.6x432 with 1 Axes>"
      ]
     },
     "metadata": {},
     "output_type": "display_data"
    },
    {
     "data": {
      "image/png": "[encoded data removed]",
      "text/plain": [
       "<Figure size 561.6x432 with 2 Axes>"
      ]
     },
     "metadata": {},
     "output_type": "display_data"
    },
    {
     "name": "stdout",
     "output_type": "stream",
     "text": [
      "실행시간은 : 3.56891512870788574219 초\n"
     ]
    }
   ],
   "source": [
    "if __name__ == '__main__' : runProgram()"
   ]
  },
  {
   "cell_type": "markdown",
   "metadata": {},
   "source": [
    "<span style=\"font-size:120%\">\n",
    "    모든 기능을 실행 시킨 결과, 위와 같은 결과를 얻을 수 있습니다."
   ]
  },
  {
   "cell_type": "code",
   "execution_count": 7,
   "metadata": {},
   "outputs": [],
   "source": [
    "info = []\n",
    "with open('purse-input.txt', 'rt') as fp :\n",
    "    num = 0\n",
    "    for i in fp :\n",
    "        num += 1\n",
    "        x, y = i.replace('\\n', '').replace(' ','').split(',', maxsplit = 1)\n",
    "        y = y.split(',')\n",
    "        y = list(map(int, y))\n",
    "        temp = (num, x, y)\n",
    "        info.append(temp)\n",
    "    info.append((9, '서강구', [100,500,5]))"
   ]
  },
  {
   "cell_type": "code",
   "execution_count": 8,
   "metadata": {},
   "outputs": [
    {
     "name": "stdout",
     "output_type": "stream",
     "text": [
      "잘못된 동전 데이터가 있습니다. \n",
      "동전관리시스템이 비정상 종료합니다.\n",
      "\n",
      "실행시간은 : 0.00026416778564453125 초\n"
     ]
    }
   ],
   "source": [
    "if __name__ == '__main__' : runProgram()"
   ]
  },
  {
   "cell_type": "markdown",
   "metadata": {},
   "source": [
    "<span style=\"font-size:120%\">\n",
    "    데이터에 지정된 동전 1원, 10원, 50원, 100원, 500원 이외의 동전이 있는 경우, 위와 같이 예외처리를 하여 프로그램을 종료합니다."
   ]
  }
 ],
 "metadata": {
  "kernelspec": {
   "display_name": "Python 3 (ipykernel)",
   "language": "python",
   "name": "python3"
  },
  "language_info": {
   "codemirror_mode": {
    "name": "ipython",
    "version": 3
   },
   "file_extension": ".py",
   "mimetype": "text/x-python",
   "name": "python",
   "nbconvert_exporter": "python",
   "pygments_lexer": "ipython3",
   "version": "3.9.13"
  },
  "toc": {
   "base_numbering": 1,
   "nav_menu": {},
   "number_sections": true,
   "sideBar": true,
   "skip_h1_title": false,
   "title_cell": "Table of Contents",
   "title_sidebar": "Contents",
   "toc_cell": false,
   "toc_position": {},
   "toc_section_display": true,
   "toc_window_display": false
  }
 },
 "nbformat": 4,
 "nbformat_minor": 4
}
