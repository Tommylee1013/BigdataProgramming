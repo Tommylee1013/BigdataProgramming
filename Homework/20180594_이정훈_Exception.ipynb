{
 "cells": [
  {
   "cell_type": "markdown",
   "metadata": {},
   "source": [
    "## 예외처리 실습 1 (실습9-1)"
   ]
  },
  {
   "cell_type": "code",
   "execution_count": 1,
   "metadata": {},
   "outputs": [
    {
     "name": "stdout",
     "output_type": "stream",
     "text": [
      "점수를 입력하시오 : 101\n",
      "점수는 0점에서 100점 사이의 값이어야 합니다\n"
     ]
    }
   ],
   "source": [
    "class ScoreError(Exception) :\n",
    "    def __init__(self, msg) :\n",
    "        self._message = msg\n",
    "        \n",
    "def input_score() :\n",
    "    score = int(input('점수를 입력하시오 : '))\n",
    "    if score > 100 or score < 0 : raise ScoreError('점수는 0점에서 100점 사이의 값이어야 합니다')\n",
    "    else : return score\n",
    "    \n",
    "if __name__ == '__main__' :\n",
    "    try : score = input_score()\n",
    "    except ScoreError as e : print(e.args[0])\n",
    "    else : print('점수는 %i입니다.' % score)"
   ]
  },
  {
   "cell_type": "code",
   "execution_count": 2,
   "metadata": {},
   "outputs": [
    {
     "name": "stdout",
     "output_type": "stream",
     "text": [
      "점수를 입력하시오 : 99\n",
      "점수는 99입니다.\n"
     ]
    }
   ],
   "source": [
    "if __name__ == '__main__' :\n",
    "    try : score = input_score()\n",
    "    except ScoreError as e : print(e.args[0])\n",
    "    else : print('점수는 %i입니다.' % score)"
   ]
  },
  {
   "cell_type": "markdown",
   "metadata": {},
   "source": [
    "## 예외처리 실습 2 (실습9-2)"
   ]
  },
  {
   "cell_type": "code",
   "execution_count": 3,
   "metadata": {},
   "outputs": [
    {
     "name": "stdout",
     "output_type": "stream",
     "text": [
      "Writing list_index.py\n"
     ]
    }
   ],
   "source": [
    "%%writefile list_index.py\n",
    "class IndexError(Exception) :\n",
    "    def __init__(self, msg) :\n",
    "        self._massage = msg\n",
    "        \n",
    "class ValueError(Exception) :\n",
    "    def __init__(self, msg) :\n",
    "        self._massage = msg\n",
    "\n",
    "def input_num() :\n",
    "    number = input('숫자를 입력하세요 : ')\n",
    "    \n",
    "    if number in num : return int(number)\n",
    "    else : \n",
    "        if number.isnumeric() == False : raise ValueError('프로그램을 종료합니다.')\n",
    "        else : raise IndexError('-1')\n",
    "        \n",
    "num = [str(i) for i in range (11)]\n",
    "\n",
    "if __name__ == '__main__' :\n",
    "    while 1 :\n",
    "        try : Number = input_num()\n",
    "        except IndexError as e : print(e.args[0])\n",
    "        except ValueError as e : print(e.args[0]); break\n",
    "        except KeyboardInterrupt : print('프로그램을 종료합니다.'); break\n",
    "        else : print('%i' % Number)"
   ]
  },
  {
   "cell_type": "code",
   "execution_count": 5,
   "metadata": {},
   "outputs": [
    {
     "name": "stdout",
     "output_type": "stream",
     "text": [
      "숫자를 입력하세요 : 1\n",
      "1\n",
      "숫자를 입력하세요 : 3\n",
      "3\n",
      "숫자를 입력하세요 : 5\n",
      "5\n",
      "숫자를 입력하세요 : 10\n",
      "10\n",
      "숫자를 입력하세요 : 20\n",
      "-1\n",
      "숫자를 입력하세요 : h\n",
      "프로그램을 종료합니다.\n"
     ]
    }
   ],
   "source": [
    "%run list_index.py"
   ]
  }
 ],
 "metadata": {
  "kernelspec": {
   "display_name": "Python 3 (ipykernel)",
   "language": "python",
   "name": "python3"
  },
  "language_info": {
   "codemirror_mode": {
    "name": "ipython",
    "version": 3
   },
   "file_extension": ".py",
   "mimetype": "text/x-python",
   "name": "python",
   "nbconvert_exporter": "python",
   "pygments_lexer": "ipython3",
   "version": "3.9.13"
  },
  "toc": {
   "base_numbering": 1,
   "nav_menu": {},
   "number_sections": true,
   "sideBar": true,
   "skip_h1_title": false,
   "title_cell": "Table of Contents",
   "title_sidebar": "Contents",
   "toc_cell": false,
   "toc_position": {},
   "toc_section_display": true,
   "toc_window_display": false
  }
 },
 "nbformat": 4,
 "nbformat_minor": 4
}
