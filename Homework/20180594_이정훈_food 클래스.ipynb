{
 "cells": [
  {
   "cell_type": "code",
   "execution_count": 1,
   "metadata": {},
   "outputs": [],
   "source": [
    "class Food(object) :\n",
    "    def __init__(self, name, price) :\n",
    "        self.name = name\n",
    "        self.price = price\n",
    "        \n",
    "    def __add__(self, other) :\n",
    "        return self.price + other.price\n",
    "    \n",
    "    def __lt__(self, other) :\n",
    "        return self.price < other.price\n",
    "    \n",
    "    def __eq__(self, other) :\n",
    "        return self.price == other.price\n",
    "    \n",
    "    def __ne__(self, other):\n",
    "        return not self.price == other.price\n",
    "        \n",
    "if __name__ == '__main__' :\n",
    "    food_1 = Food('아이스크림', 3000)\n",
    "    food_2 = Food('햄버거', 5000)\n",
    "    print(food_1 < food_2)\n",
    "    print(food_1 > food_2)\n",
    "    print(food_1 + food_2)"
   ]
  },
  {
   "cell_type": "code",
   "execution_count": 2,
   "metadata": {},
   "outputs": [],
   "source": [
    "if __name__ == '__main__' :\n",
    "    food_1 = Food('아이스크림', 3000)\n",
    "    food_2 = Food('햄버거', 3000)\n",
    "    print(food_1 != food_2)\n",
    "    print(food_1 == food_2)\n",
    "    print(food_1 + food_2)"
   ]
  },
  {
   "cell_type": "markdown",
   "metadata": {},
   "source": [
    "주석 : 문제에 equal일때의 조건이 빠져있었기 때문에 직접 구현해 보았습니다."
   ]
  }
 ],
 "metadata": {
  "kernelspec": {
   "display_name": "Python 3",
   "language": "python",
   "name": "python3"
  },
  "language_info": {
   "codemirror_mode": {
    "name": "ipython",
    "version": 3
   },
   "file_extension": ".py",
   "mimetype": "text/x-python",
   "name": "python",
   "nbconvert_exporter": "python",
   "pygments_lexer": "ipython3",
   "version": "3.8.5"
  }
 },
 "nbformat": 4,
 "nbformat_minor": 5
}
