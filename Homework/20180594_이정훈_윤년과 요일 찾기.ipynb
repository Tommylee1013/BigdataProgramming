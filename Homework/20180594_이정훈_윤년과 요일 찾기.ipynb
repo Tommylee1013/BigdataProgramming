{
 "cells": [
  {
   "cell_type": "code",
   "execution_count": 5,
   "metadata": {},
   "outputs": [
    {
     "name": "stdout",
     "output_type": "stream",
     "text": [
      "Overwriting date.py\n"
     ]
    }
   ],
   "source": [
    "%%writefile date.py\n",
    "def input_date() :\n",
    "    year = int(input('__년도를 입력하시오 : '))\n",
    "    month = int(input('__월을 입력하시오 : '))\n",
    "    day = int(input('__일을 입력하시오 : '))\n",
    "    return year, month, day\n",
    "\n",
    "def is_leap(year) :\n",
    "    if (year % 4 == 0) and (year % 100 != 0) or (year % 400 == 0) : return True\n",
    "    else : return False\n",
    "\n",
    "def get_day_name(year, month, day) :\n",
    "    week = ['일요일','월요일','화요일','수요일','목요일','금요일','토요일']\n",
    "    month_days = {1 : 31, 2 : 28, 3 : 31, 4 : 30, 5 : 31, 6 : 30, \n",
    "                  7 : 31, 8 : 31, 9 : 30, 10 : 31, 11 : 30, 12 : 31}\n",
    "    total_days = 365 * (year - 1) + sum([1 for i in range(1, year) if is_leap(i) == True])\n",
    "    \n",
    "    if is_leap(year) == True : month_days[2] = 29\n",
    "    else :\n",
    "        if (month, day) == (2, 29) : return False\n",
    "        \n",
    "    total_days += sum([month_days[i] for i in range(1, month)]) + sum([1 for i in range(day) \n",
    "                                                                       if day <= month_days[month]])\n",
    "\n",
    "    return week[total_days % 7]\n",
    "    \n",
    "if __name__ == '__main__' :\n",
    "    year, month, day = input_date()\n",
    "    day_name = get_day_name(year, month, day)\n",
    "    \n",
    "    if day_name == False : print('입력하신 날짜는 존재하지 않습니다.')\n",
    "    else : \n",
    "        print(day_name)\n",
    "        if is_leap(year) == True : print('입력하신 %s은 윤년입니다' % year)"
   ]
  },
  {
   "cell_type": "code",
   "execution_count": 6,
   "metadata": {},
   "outputs": [
    {
     "name": "stdout",
     "output_type": "stream",
     "text": [
      "__년도를 입력하시오 : 1988\n",
      "__월을 입력하시오 : 12\n",
      "__일을 입력하시오 : 22\n",
      "726093\n",
      "목요일\n",
      "입력하신 1988은 윤년입니다\n"
     ]
    }
   ],
   "source": [
    "%run date.py"
   ]
  },
  {
   "cell_type": "code",
   "execution_count": 7,
   "metadata": {},
   "outputs": [
    {
     "name": "stdout",
     "output_type": "stream",
     "text": [
      "__년도를 입력하시오 : 2019\n",
      "__월을 입력하시오 : 2\n",
      "__일을 입력하시오 : 29\n",
      "입력하신 날짜는 존재하지 않습니다.\n"
     ]
    }
   ],
   "source": [
    "%run date.py"
   ]
  },
  {
   "cell_type": "code",
   "execution_count": 9,
   "metadata": {},
   "outputs": [
    {
     "name": "stdout",
     "output_type": "stream",
     "text": [
      "__년도를 입력하시오 : 2021\n",
      "__월을 입력하시오 : 3\n",
      "__일을 입력하시오 : 23\n",
      "737872\n",
      "화요일\n"
     ]
    }
   ],
   "source": [
    "%run date.py"
   ]
  },
  {
   "cell_type": "code",
   "execution_count": null,
   "metadata": {},
   "outputs": [],
   "source": []
  }
 ],
 "metadata": {
  "kernelspec": {
   "display_name": "Python 3",
   "language": "python",
   "name": "python3"
  },
  "language_info": {
   "codemirror_mode": {
    "name": "ipython",
    "version": 3
   },
   "file_extension": ".py",
   "mimetype": "text/x-python",
   "name": "python",
   "nbconvert_exporter": "python",
   "pygments_lexer": "ipython3",
   "version": "3.8.5"
  }
 },
 "nbformat": 4,
 "nbformat_minor": 5
}
