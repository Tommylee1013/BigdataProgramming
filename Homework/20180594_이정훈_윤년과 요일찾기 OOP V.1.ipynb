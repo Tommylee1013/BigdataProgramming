{
 "cells": [
  {
   "cell_type": "code",
   "execution_count": 1,
   "metadata": {
    "scrolled": true
   },
   "outputs": [
    {
     "name": "stdout",
     "output_type": "stream",
     "text": [
      "__년도를 입력하시오 : 1988\n",
      "__월을 입력하시오 : 12\n",
      "__일을 입력하시오 : 22\n",
      "목요일\n",
      "입력하신 1988은 윤년입니다\n"
     ]
    }
   ],
   "source": [
    "class DayName(object) :\n",
    "    def __init__(self, year, month, day) :\n",
    "        self.year = year\n",
    "        self.month = month\n",
    "        self.day = day\n",
    "    \n",
    "    def is_leap(self, year) :\n",
    "        if (year % 4 == 0) and (year % 100 != 0) or (year % 400 == 0) : return True\n",
    "        else : return False\n",
    "\n",
    "    def get_day_name(self) :\n",
    "        week = ['일요일','월요일','화요일','수요일','목요일','금요일','토요일']\n",
    "        month_days = {1 : 31, 2 : 28, 3 : 31, 4 : 30, 5 : 31, 6 : 30, \n",
    "                      7 : 31, 8 : 31, 9 : 30, 10 : 31, 11 : 30, 12 : 31}\n",
    "        total_days = 365 * (self.year - 1) + sum([1 for i in range(1, self.year) if self.is_leap(i) == True])\n",
    "\n",
    "        if self.is_leap(self.year) == True : month_days[2] = 29\n",
    "        else :\n",
    "            if (self.month, self.day) == (2, 29) : return False\n",
    "\n",
    "        total_days += sum([month_days[i] for i in range(1, self.month)]) + sum([1 for i in range(self.day) \n",
    "                                                                           if self.day <= month_days[self.month]])\n",
    "        return week[total_days % 7]\n",
    "    \n",
    "    def get_name(self) :\n",
    "        if self.get_day_name() == False : return '입력하신 날짜는 존재하지 않습니다.'\n",
    "        else : \n",
    "            if self.is_leap(self.year) == True : print(self.get_day_name()); return '입력하신 %s은 윤년입니다' % self.year\n",
    "            else : return self.get_day_name()\n",
    "        \n",
    "def input_date() :\n",
    "    year = int(input('__년도를 입력하시오 : '))\n",
    "    month = int(input('__월을 입력하시오 : '))\n",
    "    day = int(input('__일을 입력하시오 : '))\n",
    "    return year, month, day\n",
    "    \n",
    "if __name__ == '__main__' :\n",
    "    year, month, day = input_date()\n",
    "    day_name = DayName(year, month, day)\n",
    "    print(day_name.get_name())"
   ]
  },
  {
   "cell_type": "code",
   "execution_count": 2,
   "metadata": {},
   "outputs": [
    {
     "name": "stdout",
     "output_type": "stream",
     "text": [
      "__년도를 입력하시오 : 2019\n",
      "__월을 입력하시오 : 2\n",
      "__일을 입력하시오 : 29\n",
      "입력하신 날짜는 존재하지 않습니다.\n"
     ]
    }
   ],
   "source": [
    "if __name__ == '__main__' :\n",
    "    year, month, day = input_date()\n",
    "    day_name = DayName(year, month, day)\n",
    "    print(day_name.get_name())"
   ]
  },
  {
   "cell_type": "code",
   "execution_count": 3,
   "metadata": {},
   "outputs": [
    {
     "name": "stdout",
     "output_type": "stream",
     "text": [
      "__년도를 입력하시오 : 2021\n",
      "__월을 입력하시오 : 3\n",
      "__일을 입력하시오 : 23\n",
      "화요일\n"
     ]
    }
   ],
   "source": [
    "if __name__ == '__main__' :\n",
    "    year, month, day = input_date()\n",
    "    day_name = DayName(year, month, day)\n",
    "    print(day_name.get_name())"
   ]
  }
 ],
 "metadata": {
  "kernelspec": {
   "display_name": "Python 3",
   "language": "python",
   "name": "python3"
  },
  "language_info": {
   "codemirror_mode": {
    "name": "ipython",
    "version": 3
   },
   "file_extension": ".py",
   "mimetype": "text/x-python",
   "name": "python",
   "nbconvert_exporter": "python",
   "pygments_lexer": "ipython3",
   "version": "3.8.5"
  }
 },
 "nbformat": 4,
 "nbformat_minor": 5
}
