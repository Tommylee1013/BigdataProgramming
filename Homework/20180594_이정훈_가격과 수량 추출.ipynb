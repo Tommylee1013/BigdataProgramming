{
 "cells": [
  {
   "cell_type": "markdown",
   "metadata": {},
   "source": [
    "### 실습 1"
   ]
  },
  {
   "cell_type": "code",
   "execution_count": 1,
   "metadata": {},
   "outputs": [
    {
     "name": "stdout",
     "output_type": "stream",
     "text": [
      "23.45\n",
      "5.01\n",
      "889.00\n",
      "69.89\n"
     ]
    }
   ],
   "source": [
    "import re\n",
    "\n",
    "data = '''\n",
    "ABC01 : $23.45\n",
    "HGG42 : $5.01\n",
    "CFXE1 : $889.00\n",
    "XTC99 : $69.89\n",
    "Total items founds : 4'''\n",
    "\n",
    "p = re.compile('(?<=\\$)\\d+[.]\\d+')\n",
    "m = p.finditer(data)\n",
    "    \n",
    "if __name__ == '__main__' :\n",
    "    for i in m : print(i.group())"
   ]
  },
  {
   "cell_type": "markdown",
   "metadata": {},
   "source": [
    "### 실습 2"
   ]
  },
  {
   "cell_type": "code",
   "execution_count": 2,
   "metadata": {},
   "outputs": [
    {
     "name": "stdout",
     "output_type": "stream",
     "text": [
      "가격을 나타내는 숫자들\n",
      "30\n",
      "5\n",
      "수량을 나타내는 숫자들\n",
      "100\n",
      "50\n",
      "60\n"
     ]
    }
   ],
   "source": [
    "import re\n",
    "\n",
    "data = '''\n",
    "I paid $30 for 100 apples,\n",
    "50 oranges, and 60 pears.\n",
    "I saved $5 on this order.\n",
    "'''\n",
    "p = re.compile('(?<=\\$)\\d+')\n",
    "q = re.compile(r'\\b(?<!\\$)\\d+\\b')\n",
    "price = p.finditer(data)\n",
    "quantity = q.finditer(data)\n",
    "\n",
    "if __name__ == '__main__' :\n",
    "    print('가격을 나타내는 숫자들')\n",
    "    for i in price : print(i.group())\n",
    "    print('수량을 나타내는 숫자들')\n",
    "    for j in quantity : print(j.group())"
   ]
  }
 ],
 "metadata": {
  "kernelspec": {
   "display_name": "Python 3",
   "language": "python",
   "name": "python3"
  },
  "language_info": {
   "codemirror_mode": {
    "name": "ipython",
    "version": 3
   },
   "file_extension": ".py",
   "mimetype": "text/x-python",
   "name": "python",
   "nbconvert_exporter": "python",
   "pygments_lexer": "ipython3",
   "version": "3.8.5"
  }
 },
 "nbformat": 4,
 "nbformat_minor": 4
}
