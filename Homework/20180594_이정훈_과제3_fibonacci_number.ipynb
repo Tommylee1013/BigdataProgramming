{
 "cells": [
  {
   "cell_type": "code",
   "execution_count": 1,
   "metadata": {},
   "outputs": [
    {
     "data": {
      "text/plain": [
       "'/Users/tommylee/Desktop/Sogang University/7 Semester/Introduction to Bigdata Programming'"
      ]
     },
     "execution_count": 1,
     "metadata": {},
     "output_type": "execute_result"
    }
   ],
   "source": [
    "%pwd"
   ]
  },
  {
   "cell_type": "code",
   "execution_count": 2,
   "metadata": {},
   "outputs": [
    {
     "name": "stdout",
     "output_type": "stream",
     "text": [
      "Overwriting fibonacci.py\n"
     ]
    }
   ],
   "source": [
    "%%writefile fibonacci.py\n",
    "\n",
    "def fibo() :\n",
    "    lst = [0, 1]\n",
    "    x = int(input('input: '))\n",
    "    for i in range(x) :\n",
    "        lst[1], lst[0] = lst[0], lst[0] + lst[1]\n",
    "    return print(lst[0])\n",
    "\n",
    "fibo()"
   ]
  },
  {
   "cell_type": "code",
   "execution_count": 3,
   "metadata": {},
   "outputs": [
    {
     "name": "stdout",
     "output_type": "stream",
     "text": [
      "input: 7\n",
      "13\n"
     ]
    }
   ],
   "source": [
    "%run fibonacci.py"
   ]
  },
  {
   "cell_type": "code",
   "execution_count": 4,
   "metadata": {},
   "outputs": [
    {
     "name": "stdout",
     "output_type": "stream",
     "text": [
      "Overwriting fibona.py\n"
     ]
    }
   ],
   "source": [
    "%%writefile fibona.py\n",
    "\n",
    "def fibo(x):\n",
    "    lst = [0, 1]\n",
    "    for i in range(int(x)) :\n",
    "        lst[1], lst[0] = lst[0], lst[0] + lst[1]\n",
    "    return print(lst[0])\n",
    "\n",
    "if __name__ == '__main__' :\n",
    "    x = int(input('input: '))\n",
    "    fibo(x)"
   ]
  },
  {
   "cell_type": "code",
   "execution_count": 5,
   "metadata": {},
   "outputs": [
    {
     "name": "stdout",
     "output_type": "stream",
     "text": [
      "13\n"
     ]
    }
   ],
   "source": [
    "import fibona\n",
    "\n",
    "fibona.fibo(7)"
   ]
  },
  {
   "cell_type": "markdown",
   "metadata": {},
   "source": [
    "## Advanced Exercise"
   ]
  },
  {
   "cell_type": "code",
   "execution_count": 6,
   "metadata": {},
   "outputs": [
    {
     "name": "stdout",
     "output_type": "stream",
     "text": [
      "Writing advance_fibonacci.py\n"
     ]
    }
   ],
   "source": [
    "%%writefile advance_fibonacci.py\n",
    "\n",
    "from tkinter import *\n",
    "from math import *\n",
    "\n",
    "root = Tk()\n",
    "root.title(\"Fibonacci Number\")\n",
    "root.geometry(\"200x120\")\n",
    "root.resizable(False, False)\n",
    "\n",
    "def fibo() :\n",
    "    cel = eval(entry.get(), {})\n",
    "    lst = [0, 1]\n",
    "    for i in range(int(cel)) :\n",
    "        lst[1], lst[0] = lst[0], lst[0] + lst[1]\n",
    "    label.configure(text = \"{}\". format(lst[0]))\n",
    "    \n",
    "entry = Entry(root, width = 40) \n",
    "entry.pack()\n",
    "\n",
    "button = Button(root, text = 'Processing', command = fibo)\n",
    "button.pack()\n",
    "button.place(x=50, y=50)\n",
    "\n",
    "label = Label(root)\n",
    "label.pack()\n",
    "\n",
    "info2 = Label(root, text = 'Result')\n",
    "info2.pack()\n",
    "info2.place(x = 10, y = 28.5)\n",
    "\n",
    "info = Label(root, text = '숫자를 입력하면 해당 항의 \\n 피보나치 수열의 값을 출력합니다')\n",
    "info.pack()\n",
    "info.place(x = 10, y = 80)\n",
    "\n",
    "root.mainloop()"
   ]
  },
  {
   "cell_type": "code",
   "execution_count": 7,
   "metadata": {},
   "outputs": [],
   "source": [
    "%run advance_fibonacci.py"
   ]
  },
  {
   "cell_type": "code",
   "execution_count": null,
   "metadata": {},
   "outputs": [],
   "source": []
  }
 ],
 "metadata": {
  "kernelspec": {
   "display_name": "Python 3",
   "language": "python",
   "name": "python3"
  },
  "language_info": {
   "codemirror_mode": {
    "name": "ipython",
    "version": 3
   },
   "file_extension": ".py",
   "mimetype": "text/x-python",
   "name": "python",
   "nbconvert_exporter": "python",
   "pygments_lexer": "ipython3",
   "version": "3.8.5"
  }
 },
 "nbformat": 4,
 "nbformat_minor": 5
}
